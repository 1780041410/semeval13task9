{
 "cells": [
  {
   "cell_type": "code",
   "execution_count": 1,
   "metadata": {},
   "outputs": [
    {
     "name": "stdout",
     "output_type": "stream",
     "text": [
      "(S\n",
      "  (NP I)\n",
      "  (VP\n",
      "    (VP (V shot) (NP (Det an) (N elephant)))\n",
      "    (PP (P in) (NP (Det my) (N pajamas)))))\n",
      "(S\n",
      "  (NP I)\n",
      "  (VP\n",
      "    (V shot)\n",
      "    (NP (Det an) (N elephant) (PP (P in) (NP (Det my) (N pajamas))))))\n"
     ]
    }
   ],
   "source": [
    "import nltk\n",
    "\n",
    "\n",
    "\n",
    "groucho_grammar = nltk.CFG.fromstring(\"\"\"\n",
    "    S -> NP VP\n",
    "    PP -> P NP\n",
    "    NP -> Det N | Det N PP | 'I'\n",
    "    VP -> V NP | VP PP\n",
    "    Det -> 'an' | 'my'\n",
    "    N -> 'elephant' | 'pajamas'\n",
    "    V -> 'shot'\n",
    "    P -> 'in'\n",
    "    \"\"\")\n",
    "\n",
    "sent = ['I', 'shot', 'an', 'elephant', 'in', 'my', 'pajamas']\n",
    "parser = nltk.ChartParser(groucho_grammar)\n",
    "\n",
    "for tree in parser.parse(sent):\n",
    "    print(tree)\n",
    "\n",
    "selected = list(parser.parse(sent))[0]\n",
    "\n"
   ]
  },
  {
   "cell_type": "code",
   "execution_count": 7,
   "metadata": {},
   "outputs": [
    {
     "ename": "ValueError",
     "evalue": "Grammar does not cover some of the input words: \"'Mary', 'saw', 'Bob'\".",
     "output_type": "error",
     "traceback": [
      "\u001b[0;31m---------------------------------------------------------------------------\u001b[0m",
      "\u001b[0;31mValueError\u001b[0m                                Traceback (most recent call last)",
      "\u001b[0;32m<ipython-input-7-d2ac68a2e8a8>\u001b[0m in \u001b[0;36m<module>\u001b[0;34m()\u001b[0m\n\u001b[0;32m----> 1\u001b[0;31m \u001b[0mselected\u001b[0m \u001b[0;34m=\u001b[0m \u001b[0mlist\u001b[0m\u001b[0;34m(\u001b[0m\u001b[0mparser\u001b[0m\u001b[0;34m.\u001b[0m\u001b[0mparse\u001b[0m\u001b[0;34m(\u001b[0m\u001b[0msent\u001b[0m\u001b[0;34m)\u001b[0m\u001b[0;34m)\u001b[0m\u001b[0;34m[\u001b[0m\u001b[0;36m0\u001b[0m\u001b[0;34m]\u001b[0m\u001b[0;34m\u001b[0m\u001b[0m\n\u001b[0m\u001b[1;32m      2\u001b[0m \u001b[0;31m# find position (in the tree) of I\u001b[0m\u001b[0;34m\u001b[0m\u001b[0;34m\u001b[0m\u001b[0m\n\u001b[1;32m      3\u001b[0m \u001b[0;32mfor\u001b[0m \u001b[0msubtree\u001b[0m \u001b[0;32min\u001b[0m \u001b[0mselected\u001b[0m\u001b[0;34m:\u001b[0m\u001b[0;34m\u001b[0m\u001b[0m\n\u001b[1;32m      4\u001b[0m     \u001b[0;32mif\u001b[0m \u001b[0misinstance\u001b[0m\u001b[0;34m(\u001b[0m\u001b[0msubtree\u001b[0m\u001b[0;34m,\u001b[0m\u001b[0mstr\u001b[0m\u001b[0;34m)\u001b[0m \u001b[0;32mand\u001b[0m \u001b[0msubtree\u001b[0m \u001b[0;34m==\u001b[0m \u001b[0;34m\"I\"\u001b[0m\u001b[0;34m:\u001b[0m\u001b[0;34m\u001b[0m\u001b[0m\n\u001b[1;32m      5\u001b[0m         \u001b[0;31m# return what? from S to this word?\u001b[0m\u001b[0;34m\u001b[0m\u001b[0;34m\u001b[0m\u001b[0m\n",
      "\u001b[0;32m~/anaconda3/envs/ahltmai/lib/python3.6/site-packages/nltk/parse/chart.py\u001b[0m in \u001b[0;36mparse\u001b[0;34m(self, tokens, tree_class)\u001b[0m\n\u001b[1;32m   1349\u001b[0m \u001b[0;34m\u001b[0m\u001b[0m\n\u001b[1;32m   1350\u001b[0m     \u001b[0;32mdef\u001b[0m \u001b[0mparse\u001b[0m\u001b[0;34m(\u001b[0m\u001b[0mself\u001b[0m\u001b[0;34m,\u001b[0m \u001b[0mtokens\u001b[0m\u001b[0;34m,\u001b[0m \u001b[0mtree_class\u001b[0m\u001b[0;34m=\u001b[0m\u001b[0mTree\u001b[0m\u001b[0;34m)\u001b[0m\u001b[0;34m:\u001b[0m\u001b[0;34m\u001b[0m\u001b[0m\n\u001b[0;32m-> 1351\u001b[0;31m         \u001b[0mchart\u001b[0m \u001b[0;34m=\u001b[0m \u001b[0mself\u001b[0m\u001b[0;34m.\u001b[0m\u001b[0mchart_parse\u001b[0m\u001b[0;34m(\u001b[0m\u001b[0mtokens\u001b[0m\u001b[0;34m)\u001b[0m\u001b[0;34m\u001b[0m\u001b[0m\n\u001b[0m\u001b[1;32m   1352\u001b[0m         \u001b[0;32mreturn\u001b[0m \u001b[0miter\u001b[0m\u001b[0;34m(\u001b[0m\u001b[0mchart\u001b[0m\u001b[0;34m.\u001b[0m\u001b[0mparses\u001b[0m\u001b[0;34m(\u001b[0m\u001b[0mself\u001b[0m\u001b[0;34m.\u001b[0m\u001b[0m_grammar\u001b[0m\u001b[0;34m.\u001b[0m\u001b[0mstart\u001b[0m\u001b[0;34m(\u001b[0m\u001b[0;34m)\u001b[0m\u001b[0;34m,\u001b[0m \u001b[0mtree_class\u001b[0m\u001b[0;34m=\u001b[0m\u001b[0mtree_class\u001b[0m\u001b[0;34m)\u001b[0m\u001b[0;34m)\u001b[0m\u001b[0;34m\u001b[0m\u001b[0m\n\u001b[1;32m   1353\u001b[0m \u001b[0;34m\u001b[0m\u001b[0m\n",
      "\u001b[0;32m~/anaconda3/envs/ahltmai/lib/python3.6/site-packages/nltk/parse/chart.py\u001b[0m in \u001b[0;36mchart_parse\u001b[0;34m(self, tokens, trace)\u001b[0m\n\u001b[1;32m   1308\u001b[0m \u001b[0;34m\u001b[0m\u001b[0m\n\u001b[1;32m   1309\u001b[0m         \u001b[0mtokens\u001b[0m \u001b[0;34m=\u001b[0m \u001b[0mlist\u001b[0m\u001b[0;34m(\u001b[0m\u001b[0mtokens\u001b[0m\u001b[0;34m)\u001b[0m\u001b[0;34m\u001b[0m\u001b[0m\n\u001b[0;32m-> 1310\u001b[0;31m         \u001b[0mself\u001b[0m\u001b[0;34m.\u001b[0m\u001b[0m_grammar\u001b[0m\u001b[0;34m.\u001b[0m\u001b[0mcheck_coverage\u001b[0m\u001b[0;34m(\u001b[0m\u001b[0mtokens\u001b[0m\u001b[0;34m)\u001b[0m\u001b[0;34m\u001b[0m\u001b[0m\n\u001b[0m\u001b[1;32m   1311\u001b[0m         \u001b[0mchart\u001b[0m \u001b[0;34m=\u001b[0m \u001b[0mself\u001b[0m\u001b[0;34m.\u001b[0m\u001b[0m_chart_class\u001b[0m\u001b[0;34m(\u001b[0m\u001b[0mtokens\u001b[0m\u001b[0;34m)\u001b[0m\u001b[0;34m\u001b[0m\u001b[0m\n\u001b[1;32m   1312\u001b[0m         \u001b[0mgrammar\u001b[0m \u001b[0;34m=\u001b[0m \u001b[0mself\u001b[0m\u001b[0;34m.\u001b[0m\u001b[0m_grammar\u001b[0m\u001b[0;34m\u001b[0m\u001b[0m\n",
      "\u001b[0;32m~/anaconda3/envs/ahltmai/lib/python3.6/site-packages/nltk/grammar.py\u001b[0m in \u001b[0;36mcheck_coverage\u001b[0;34m(self, tokens)\u001b[0m\n\u001b[1;32m    646\u001b[0m             \u001b[0mmissing\u001b[0m \u001b[0;34m=\u001b[0m \u001b[0;34m', '\u001b[0m\u001b[0;34m.\u001b[0m\u001b[0mjoin\u001b[0m\u001b[0;34m(\u001b[0m\u001b[0;34m'%r'\u001b[0m \u001b[0;34m%\u001b[0m \u001b[0;34m(\u001b[0m\u001b[0mw\u001b[0m\u001b[0;34m,\u001b[0m\u001b[0;34m)\u001b[0m \u001b[0;32mfor\u001b[0m \u001b[0mw\u001b[0m \u001b[0;32min\u001b[0m \u001b[0mmissing\u001b[0m\u001b[0;34m)\u001b[0m\u001b[0;34m\u001b[0m\u001b[0m\n\u001b[1;32m    647\u001b[0m             raise ValueError(\"Grammar does not cover some of the \"\n\u001b[0;32m--> 648\u001b[0;31m                              \"input words: %r.\" % missing)\n\u001b[0m\u001b[1;32m    649\u001b[0m \u001b[0;34m\u001b[0m\u001b[0m\n\u001b[1;32m    650\u001b[0m     \u001b[0;32mdef\u001b[0m \u001b[0m_calculate_grammar_forms\u001b[0m\u001b[0;34m(\u001b[0m\u001b[0mself\u001b[0m\u001b[0;34m)\u001b[0m\u001b[0;34m:\u001b[0m\u001b[0;34m\u001b[0m\u001b[0m\n",
      "\u001b[0;31mValueError\u001b[0m: Grammar does not cover some of the input words: \"'Mary', 'saw', 'Bob'\"."
     ]
    }
   ],
   "source": [
    "selected = list(parser.parse(sent))[0]\n",
    "# find position (in the tree) of I\n",
    "for subtree in selected:\n",
    "    if isinstance(subtree,str) and subtree == \"I\":\n",
    "        # return what? from S to this word?\n",
    "        print(subtree)\n",
    "    else:\n",
    "        for elems in subtree:\n",
    "            pass\n",
    "\n",
    "# find position (in the tree) of elephant\n",
    "\n",
    "\n",
    "# recursive approach\n",
    "\"\"\"\n",
    "    1- traverse from S to finding e1 word\n",
    "    2- traverse from S to finding e2 word\n",
    "    3- compare both paths: upon some level they should coincide\n",
    "    5- join the path from the point they coincide\n",
    "\"\"\""
   ]
  },
  {
   "cell_type": "code",
   "execution_count": 56,
   "metadata": {},
   "outputs": [
    {
     "name": "stdout",
     "output_type": "stream",
     "text": [
      "(S\n",
      "  (NP John)\n",
      "  (VP (V saw) (NP Mary) (PP (P with) (NP (Det a) (N cat)))))\n",
      "['S', 'VP', 'NP']\n",
      "['S', 'VP', 'PP', 'P']\n",
      "sublist1 ['VP', 'NP']\n",
      "sublist2 ['PP', 'P']\n",
      "sublist2 ['P', 'PP']\n",
      "['P', 'PP', 'VP', 'NP']\n"
     ]
    }
   ],
   "source": [
    "# Contexxt Free Grammar\n",
    "grammar1 = nltk.CFG.fromstring(\"\"\"\n",
    "  S -> NP VP\n",
    "  VP -> V NP | V NP PP\n",
    "  PP -> P NP\n",
    "  V -> \"saw\" | \"ate\" | \"walked\"\n",
    "  NP -> \"John\" | \"Mary\" | \"Bob\" | Det N | Det N PP\n",
    "  Det -> \"a\" | \"an\" | \"the\" | \"my\"\n",
    "  N -> \"man\" | \"dog\" | \"cat\" | \"telescope\" | \"park\"\n",
    "  P -> \"in\" | \"on\" | \"by\" | \"with\"\n",
    "  \"\"\")\n",
    "sent = \"Mary saw Bob\".split()\n",
    "sent = \"John saw Mary with a cat \".split()\n",
    "rd_parser = nltk.RecursiveDescentParser(grammar1)\n",
    "for tree in rd_parser.parse(sent):\n",
    "     print(tree)\n",
    "        \n",
    "tree = list(rd_parser.parse(sent))[0]\n",
    "        \n",
    "def findword(tree, word):\n",
    "    #print(\"tree\", type(tree),tree, tree==word)\n",
    "    #print(dir(tree))\n",
    "    if isinstance(tree,nltk.tree.Tree):\n",
    "        result=[tree.label()]\n",
    "        for stree in tree:\n",
    "            subresult = findword(stree, word)\n",
    "            #print(\"sub\",subresult)\n",
    "            if subresult is not None:\n",
    "                result.extend(subresult)\n",
    "                return result \n",
    "                break\n",
    "        return None\n",
    "    elif isinstance(tree,str) and tree==word:\n",
    "        return []\n",
    "    else:\n",
    "        return None\n",
    "    \n",
    "\n",
    "path1 = findword(tree,\"Mary\")\n",
    "path2 = findword(tree,\"with\")\n",
    "print(path1)\n",
    "print(path2)\n",
    "\n",
    "# compare both paths\n",
    "#   -> find first different element\n",
    "j = 0\n",
    "for i in range(1,min(len(path1),len(path2))):\n",
    "    if path1[i] != path2[i]:\n",
    "        j = i - 1\n",
    "        break\n",
    "        \n",
    "# now join both list from the jth element\n",
    "# we need to take into account the \"order\" of appearance in the tree\n",
    "# left or right, which is left to the other one, cuz it's tree will be reversed\n",
    "#  S VP NP Mary\n",
    "#  S VP NP Bob <-> Bob Np VP S\n",
    "#  always the reversed list goes first and that's it?\n",
    "sublist1 = path1[j:]\n",
    "print(\"sublist1\",sublist1)\n",
    "if j< len(path2)-1:\n",
    "    j=j+1\n",
    "sublist2 = path2[j:]\n",
    "print(\"sublist2\",sublist2)\n",
    "sublist2.reverse()\n",
    "print(\"sublist2\",sublist2)\n",
    "shortespath = sublist2 + sublist1\n",
    "print(shortespath)"
   ]
  },
  {
   "cell_type": "code",
   "execution_count": 2,
   "metadata": {},
   "outputs": [
    {
     "name": "stdout",
     "output_type": "stream",
     "text": [
      "../data/grammars/maltparser-1.8.1\n",
      " path to maltparses exists\n",
      "{'../data/grammars/maltparser-1.8.1/lib/liblinear-1.8.jar', '../data/grammars/maltparser-1.8.1/maltparser-1.8.1.jar', '../data/grammars/maltparser-1.8.1/lib/libsvm.jar', '../data/grammars/maltparser-1.8.1/lib/log4j.jar'}\n",
      "/media/disk/home/pau/Projectes/AHLT-mai/src\n",
      "(is\n",
      "  Asaf\n",
      "  (trying (install to (work a strange library that will never))))\n"
     ]
    }
   ],
   "source": [
    "from nltk.parse.malt import MaltParser\n",
    "import os\n",
    "# export MALT_PARSER=$HOME/maltparser-1.8.1/\n",
    "# export MALT_MODEL=$HOME/engmalt.linear-1.7.mco\n",
    "#os.environ['MALT_PARSER'] = \"../data/grammars/maltparser-1.8.1/\"\n",
    "#os.environ['MALT_MODEL'] = \"../data/grammars/engmalt.poly-1.7.mco\"\n",
    "mp = MaltParser(\"../data/grammars/maltparser-1.8.1\",\"engmalt.poly-1.7.mco\")\n",
    "sent1 = 'Asaf is trying to install a strange library that will never work'.split()\n",
    "print(mp.parse_one(sent1).tree())"
   ]
  },
  {
   "cell_type": "code",
   "execution_count": 6,
   "metadata": {},
   "outputs": [
    {
     "name": "stdout",
     "output_type": "stream",
     "text": [
      "/media/disk/home/pau/Projectes/AHLT-mai/src\n",
      "Asaf\n",
      "(trying (install to (work a strange library that will never)))\n"
     ]
    }
   ],
   "source": [
    "sent1 = 'Asaf is trying to install a strange library that will never work'.split()\n",
    "print(mp.parse_one(sent1).tree())"
   ]
  },
  {
   "cell_type": "code",
   "execution_count": 22,
   "metadata": {},
   "outputs": [
    {
     "name": "stdout",
     "output_type": "stream",
     "text": [
      "done\n",
      "/media/disk/home/pau/Projectes/AHLT-mai/src\n",
      "[<list_iterator object at 0x7fd550d73e48>, <list_iterator object at 0x7fd550d73978>]\n",
      "332.125369310379\n",
      "/media/disk/home/pau/Projectes/AHLT-mai/src\n",
      "(is\n",
      "  Asaf\n",
      "  (trying (install to (work a strange library that will never))))\n",
      "7.6311070919036865\n"
     ]
    }
   ],
   "source": [
    "# timing the dependency parsing of MaltParser\n",
    "sent1 = ['Asaf is trying to install a strange library that will never work'.split(),\n",
    "         'Asaf is trying to install a strange library that will never work'.split(),\n",
    "         'Asaf is trying to install a strange library that will never work'.split(),\n",
    "        ]\n",
    "parses = mp.parse_sents(sent1)\n",
    "print(\"done\")\n",
    "from time import time\n",
    "start = time()\n",
    "print(list(parses))\n",
    "for et in parses:\n",
    "    try:\n",
    "        for tree in et:\n",
    "            print(tree.tree())\n",
    "    except:\n",
    "        pass\n",
    "print(time() - start)\n",
    "\n",
    "start = time()\n",
    "sent1 = 'Asaf is trying to install a strange library that will never work'.split()\n",
    "print(mp.parse_one(sent1).tree())\n",
    "print(time() - start)\n",
    "\n",
    "\n"
   ]
  },
  {
   "cell_type": "code",
   "execution_count": null,
   "metadata": {},
   "outputs": [],
   "source": [
    "# timing the dependency parsing of MaltParser\n",
    "sent1 = ['Asaf is trying to install a strange library that will never work'.split() * 1000\n",
    "        ]\n",
    "parses = mp.parse_sents(sent1)\n",
    "print(\"done\")\n",
    "from time import time\n",
    "start = time()\n",
    "print(list(parses))\n",
    "numtrees = 0\n",
    "for et in parses:\n",
    "    try:\n",
    "        for tree in et:\n",
    "            if tree.tree() is not None:\n",
    "                numtrees +=1\n",
    "    except:\n",
    "        pass\n",
    "print(time() - start)\n",
    "\n",
    "start = time()\n",
    "sent1 = 'Asaf is trying to install a strange library that will never work'.split()\n",
    "print(mp.parse_one(sent1).tree())\n",
    "print(time() - start)"
   ]
  }
 ],
 "metadata": {
  "kernelspec": {
   "display_name": "ahltmai",
   "language": "python",
   "name": "ahltmai"
  },
  "language_info": {
   "codemirror_mode": {
    "name": "ipython",
    "version": 3
   },
   "file_extension": ".py",
   "mimetype": "text/x-python",
   "name": "python",
   "nbconvert_exporter": "python",
   "pygments_lexer": "ipython3",
   "version": "3.6.4"
  }
 },
 "nbformat": 4,
 "nbformat_minor": 2
}
