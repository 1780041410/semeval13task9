{
 "cells": [
  {
   "cell_type": "code",
   "execution_count": 1,
   "metadata": {},
   "outputs": [
    {
     "name": "stderr",
     "output_type": "stream",
     "text": [
      "/home/pau/anaconda3/envs/ahltmai/lib/python3.6/site-packages/sklearn/cross_validation.py:41: DeprecationWarning: This module was deprecated in version 0.18 in favor of the model_selection module into which all the refactored classes and functions are moved. Also note that the interface of the new CV iterators are different from that of this module. This module will be removed in 0.20.\n",
      "  \"This module will be removed in 0.20.\", DeprecationWarning)\n"
     ]
    }
   ],
   "source": [
    "# repeating the same with a class\n",
    "from NERmodel import NERmodel\n",
    "\n",
    "model = NERmodel()\n",
    "#model.trainFeatureExtraction(\"../data/LaboCase/Train\", limit=20)\n",
    "model.trainFeatureExtraction(\"../data/LaboCase/Train\")\n",
    "model.saveTrainingFeatures(\"../data/models/data-train3.json\")"
   ]
  },
  {
   "cell_type": "code",
   "execution_count": 2,
   "metadata": {},
   "outputs": [
    {
     "name": "stdout",
     "output_type": "stream",
     "text": [
      "../data/models/svm-pipeline_201805101328.pkl\n"
     ]
    }
   ],
   "source": [
    "from NERmodel import NERmodel\n",
    "model = NERmodel()\n",
    "model.loadTrainingFeatures(\"../data/models/data-train3.json\")\n",
    "\n",
    "model.newModelPipeline()\n",
    "filepath = model.saveModelPipeline()\n",
    "print(filepath)\n"
   ]
  },
  {
   "cell_type": "code",
   "execution_count": 3,
   "metadata": {},
   "outputs": [],
   "source": [
    "from NERmodel import NERmodel\n",
    "model = NERmodel()\n",
    "#model.testFeatureExtraction(\"../data/LaboCase/Test\", limit=100)\n",
    "model.testFeatureExtraction(\"../data/LaboCase/Test/Test for DrugNER task/DrugBank\")\n",
    "model.saveTestFeatures('../data/models/data-test3.json')"
   ]
  },
  {
   "cell_type": "code",
   "execution_count": 2,
   "metadata": {},
   "outputs": [
    {
     "name": "stdout",
     "output_type": "stream",
     "text": [
      " non O tags:\n",
      "75\n",
      "predictions length 75\n",
      "DDI-DrugBank.d772.s1|43-52|estradiol|drug\n",
      "DDI-DrugBank.d772.s1|62-74|progesterone|drug\n",
      "DDI-DrugBank.d646.s0|79-88|rifaximin|drug\n",
      "DDI-DrugBank.d646.s1|71-80|rifaximin|drug\n",
      "DDI-DrugBank.d681.s0|74-83|sevelamer|drug\n",
      "DDI-DrugBank.d681.s0|89-101|theophylline|drug\n",
      "DDI-DrugBank.d657.s0|17-27|Dronabinol|drug\n",
      "DDI-DrugBank.d657.s0|94-104|Dronabinol|drug\n",
      "DDI-DrugBank.d592.s2|54-60|Sodium|drug\n",
      "DDI-DrugBank.d592.s2|72-79|Sulfate|drug\n",
      "DDI-DrugBank.d684.s3|46-58|itraconazole|drug\n",
      "DDI-DrugBank.d684.s3|60-72|ketoconazole|drug\n",
      "DDI-DrugBank.d684.s3|74-85|fluconazole|drug\n",
      "DDI-DrugBank.d621.s1|26-36|colestipol|drug\n",
      "DDI-DrugBank.d621.s1|38-52|cholestyramine|drug\n",
      "DDI-DrugBank.d621.s1|71-81|sucralfate|drug\n",
      "DDI-DrugBank.d617.s4|28-47|hydrochlorothiazide|drug\n",
      "DDI-DrugBank.d617.s4|49-63|spironolactone|drug\n",
      "DDI-DrugBank.d612.s0|58-70|pioglitazone|drug\n",
      "DDI-DrugBank.d731.s1|68-77|cisplatin|drug\n",
      "DDI-DrugBank.d663.s1|64-75|verteporfin|drug\n",
      "DDI-DrugBank.d583.s0|49-64|succinylcholine|drug\n",
      "DDI-DrugBank.d583.s0|85-97|remifentanil|drug\n",
      "DDI-DrugBank.d583.s1|71-81|thiopental|drug\n",
      "DDI-DrugBank.d583.s1|83-93|isoflurane|drug\n",
      "DDI-DrugBank.d583.s1|95-103|propofol|drug\n",
      "DDI-DrugBank.d583.s2|22-32|atracurium|drug\n",
      "DDI-DrugBank.d583.s2|34-44|mivacurium|drug\n",
      "DDI-DrugBank.d583.s2|46-53|esmolol|drug\n",
      "DDI-DrugBank.d583.s2|55-68|echothiophate|drug\n",
      "DDI-DrugBank.d583.s2|70-81|neostigmine|drug\n",
      "DDI-DrugBank.d583.s2|83-96|physostigmine|drug\n",
      "DDI-DrugBank.d673.s1|23-33|olmesartan|drug\n",
      "DDI-DrugBank.d614.s6|94-104|b-carotene|drug\n",
      "DDI-DrugBank.d614.s6|106-113|ethanol|drug\n",
      "DDI-DrugBank.d614.s7|52-63|allopurinol|drug\n",
      "DDI-DrugBank.d594.s0|37-48|fludarabine|drug\n",
      "DDI-DrugBank.d594.s0|53-63|vidarabine|drug\n",
      "DDI-DrugBank.d705.s0|94-105|telbivudine|drug\n",
      "DDI-DrugBank.d705.s1|96-107|telbivudine|drug\n",
      "DDI-DrugBank.d586.s1|36-48|pimecrolimus|drug\n",
      "DDI-DrugBank.d586.s3|46-58|itraconazole|drug\n",
      "DDI-DrugBank.d586.s3|60-72|ketoconazole|drug\n",
      "DDI-DrugBank.d586.s3|74-85|fluconazole|drug\n",
      "DDI-DrugBank.d767.s2|54-63|phenytoin|drug\n",
      "DDI-DrugBank.d730.s0|31-40|temazepam|drug\n",
      "DDI-DrugBank.d730.s0|94-104|cimetidine|drug\n",
      "DDI-DrugBank.d701.s0|102-113|Pirenzepine|drug\n",
      "DDI-DrugBank.d701.s1|66-78|Ketoconazole|drug\n",
      "DDI-DrugBank.d718.s0|51-58|Calcium|drug\n",
      "DDI-DrugBank.d718.s0|72-86|Cholestyramine|drug\n",
      "DDI-DrugBank.d718.s0|88-95|Choline|drug\n",
      "DDI-DrugBank.d718.s0|100-109|magnesium|drug\n",
      "DDI-DrugBank.d718.s0|123-133|Colestipol|drug\n",
      "DDI-DrugBank.d644.s2|62-70|Rifampin|drug\n",
      "DDI-DrugBank.d644.s2|84-93|phenytoin|drug\n",
      "DDI-DrugBank.d644.s2|105-118|carbamazepine|drug\n",
      "DDI-DrugBank.d664.s1|67-75|warfarin|drug\n",
      "DDI-DrugBank.d672.s0|63-70|digoxin|drug\n",
      "DDI-DrugBank.d672.s1|17-29|Sparfloxacin|drug\n",
      "DDI-DrugBank.d672.s2|35-47|theophylline|drug\n",
      "DDI-DrugBank.d672.s2|96-104|caffeine|drug\n",
      "DDI-DrugBank.d672.s3|70-78|warfarin|drug\n",
      "DDI-DrugBank.d672.s4|63-75|sparfloxacin|drug\n",
      "DDI-DrugBank.d672.s5|28-40|sparfloxacin|drug\n",
      "DDI-DrugBank.d672.s8|62-74|sparfloxacin|drug\n",
      "DDI-DrugBank.d733.s2|68-78|diclofenac|drug\n",
      "DDI-DrugBank.d733.s2|82-91|ibuprofen|drug\n",
      "DDI-DrugBank.d764.s0|49-55|methyl|drug\n",
      "DDI-DrugBank.d768.s2|75-87|palonosetron|drug\n",
      "DDI-DrugBank.d768.s3|55-67|palonosetron|drug\n",
      "DDI-DrugBank.d768.s3|100-114|metoclopramide|drug\n",
      "DDI-DrugBank.d768.s5|96-105|cisplatin|drug\n",
      "DDI-DrugBank.d768.s5|107-123|cyclophosphamide|drug\n",
      "DDI-DrugBank.d768.s5|125-135|cytarabine|drug\n",
      "DDI-DrugBank.d772.s1|43-52|estradiol|drug\n",
      "\n",
      "DDI-DrugBank.d772.s1|62-74|progesterone|drug\n",
      "\n",
      "DDI-DrugBank.d646.s0|79-88|rifaximin|drug\n",
      "\n",
      "\n",
      "AutoEvaluation calling: ../data/models/task9.1_AHLT_1.csv\n"
     ]
    }
   ],
   "source": [
    "from NERmodel import NERmodel\n",
    "\n",
    "goodmodel01 = '../data/models/svm-pipeline_201805092249.pkl'\n",
    "badmodel = '../data/models/svm-pipeline_201805101328.pkl'\n",
    "\n",
    "model = NERmodel()\n",
    "model.loadModelPipeline(goodmodel01)\n",
    "model.loadTestFeatures('../data/models/data-test3.json')\n",
    "model.predict()\n",
    "resultfile = '../data/models/task9.1_AHLT_1.txt'\n",
    "model.parsePredictionOutput(resultfile)\n",
    "with open(resultfile,'r') as f:\n",
    "    for line in f.readlines()[:3]:\n",
    "        print(line)\n",
    "        \n",
    "evaluation_files = model.autoEvaluation()"
   ]
  }
 ],
 "metadata": {
  "kernelspec": {
   "display_name": "ahltmai",
   "language": "python",
   "name": "ahltmai"
  },
  "language_info": {
   "codemirror_mode": {
    "name": "ipython",
    "version": 3
   },
   "file_extension": ".py",
   "mimetype": "text/x-python",
   "name": "python",
   "nbconvert_exporter": "python",
   "pygments_lexer": "ipython3",
   "version": "3.6.4"
  }
 },
 "nbformat": 4,
 "nbformat_minor": 2
}
