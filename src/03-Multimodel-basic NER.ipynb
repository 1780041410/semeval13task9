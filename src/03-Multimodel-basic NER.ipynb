{
 "cells": [
  {
   "cell_type": "code",
   "execution_count": 1,
   "metadata": {},
   "outputs": [
    {
     "name": "stderr",
     "output_type": "stream",
     "text": [
      "/home/pau/anaconda3/envs/ahltmai/lib/python3.6/site-packages/sklearn/cross_validation.py:41: DeprecationWarning: This module was deprecated in version 0.18 in favor of the model_selection module into which all the refactored classes and functions are moved. Also note that the interface of the new CV iterators are different from that of this module. This module will be removed in 0.20.\n",
      "  \"This module will be removed in 0.20.\", DeprecationWarning)\n"
     ]
    }
   ],
   "source": [
    "# repeating the same with a class\n",
    "from NERmodel import NERmodel\n",
    "\n",
    "model = NERmodel()\n",
    "model.trainFeatureExtraction(\"../data/LaboCase/Train\", limit=100)\n",
    "#model.trainFeatureExtraction(\"../data/LaboCase/Train\")\n",
    "model.saveTrainingFeatures(\"../data/models/data-train3.json\")"
   ]
  },
  {
   "cell_type": "code",
   "execution_count": 2,
   "metadata": {},
   "outputs": [
    {
     "name": "stdout",
     "output_type": "stream",
     "text": [
      "transformToDataDict ertype=NER\n",
      "../data/models/svm-pipeline_20180516223625.pkl\n"
     ]
    }
   ],
   "source": [
    "from NERmodel import NERmodel\n",
    "model = NERmodel()\n",
    "model.loadTrainingFeatures(\"../data/models/data-train3.json\")\n",
    "\n",
    "model.newModelPipeline(ertype=\"NER\")\n",
    "filepath = model.saveModelPipeline()\n",
    "print(filepath)\n"
   ]
  },
  {
   "cell_type": "code",
   "execution_count": 3,
   "metadata": {},
   "outputs": [],
   "source": [
    "from NERmodel import NERmodel\n",
    "model = NERmodel()\n",
    "model.testFeatureExtraction(\"../data/LaboCase/Test\", limit=100)\n",
    "#model.testFeatureExtraction(\"../data/LaboCase/Test/Test for DrugNER task/DrugBank\")\n",
    "#model.testFeatureExtraction(\"../data/LaboCase/Test/Test for DrugNER task/DrugBank\", limit=500)\n",
    "\n",
    "model.saveTestFeatures('../data/models/data-test3.json')"
   ]
  },
  {
   "cell_type": "code",
   "execution_count": 4,
   "metadata": {},
   "outputs": [
    {
     "name": "stdout",
     "output_type": "stream",
     "text": [
      "NERMmodel, the mode isNER\n",
      "predict ertype=NER\n",
      "transformToDataDict ertype=NER\n",
      "None \n"
     ]
    }
   ],
   "source": [
    "from NERmodel import NERmodel\n",
    "\n",
    "goodmodel01 = '../data/models/svm-pipeline_201805092249.pkl'\n",
    "badmodel = '../data/models/svm-pipeline_201805101328.pkl'\n",
    "nermodel = '../data/models/svm-pipeline_20180516223625.pkl'\n",
    "training_set_name = \"nertest\"\n",
    "\n",
    "model = NERmodel()\n",
    "model.setName(training_set_name)\n",
    "model.loadModelPipeline(nermodel)\n",
    "model.loadTestFeatures('../data/models/data-test3.json')\n",
    "# testing ER\n",
    "#model.predict(mode=\"ER\")\n",
    "# testing NER\n",
    "model.predict(mode=\"NER\")\n",
    "resultfile = '../data/models/task9.1_'+training_set_name+'_0.txt'\n",
    "model.parsePredictionOutput(resultfile)\n",
    "#with open(resultfile,'r') as f:\n",
    "#    for line in f.readlines()[:3]:\n",
    "#        print(line)\n",
    "        \n",
    "evaluation_files = model.autoEvaluation()"
   ]
  },
  {
   "cell_type": "code",
   "execution_count": 2,
   "metadata": {},
   "outputs": [
    {
     "name": "stdout",
     "output_type": "stream",
     "text": [
      "[<bound method MyFeatures.hasStrangeChars of <CustomFeatures.MyFeatures object at 0x7ff98492dc50>>,\n",
      " <bound method MyFeatures.isLowerCase of <CustomFeatures.MyFeatures object at 0x7ff98492dc50>>,\n",
      " <bound method MyFeatures.isTitleCase of <CustomFeatures.MyFeatures object at 0x7ff98492dc50>>,\n",
      " <bound method MyFeatures.isUpperCase of <CustomFeatures.MyFeatures object at 0x7ff98492dc50>>,\n",
      " <bound method MyFeatures.lenprefix of <CustomFeatures.MyFeatures object at 0x7ff98492dc50>>,\n",
      " <bound method MyFeatures.lensuffix of <CustomFeatures.MyFeatures object at 0x7ff98492dc50>>,\n",
      " <bound method MyFeatures.moreThan10chars of <CustomFeatures.MyFeatures object at 0x7ff98492dc50>>,\n",
      " <bound method MyFeatures.prefix of <CustomFeatures.MyFeatures object at 0x7ff98492dc50>>]\n",
      "[<bound method MyFeatures.getLemma of <CustomFeatures.MyFeatures object at 0x7ff98492dc50>>,\n",
      " <bound method MyFeatures.getPOSTag of <CustomFeatures.MyFeatures object at 0x7ff98492dc50>>]\n",
      "[<bound method MyFeatures.getPOSTag of <CustomFeatures.MyFeatures object at 0x7ff98492dc50>>]\n",
      "\n",
      "[<bound method MyFeatures.hasStrangeChars of <CustomFeatures.MyFeatures object at 0x7ff98492ddd8>>,\n",
      " <bound method MyFeatures.isTitleCase of <CustomFeatures.MyFeatures object at 0x7ff98492ddd8>>,\n",
      " <bound method MyFeatures.isUpperCase of <CustomFeatures.MyFeatures object at 0x7ff98492ddd8>>,\n",
      " <bound method MyFeatures.lensuffix of <CustomFeatures.MyFeatures object at 0x7ff98492ddd8>>,\n",
      " <bound method MyFeatures.lenword of <CustomFeatures.MyFeatures object at 0x7ff98492ddd8>>,\n",
      " <bound method MyFeatures.moreThan10chars of <CustomFeatures.MyFeatures object at 0x7ff98492ddd8>>,\n",
      " <bound method MyFeatures.prefix of <CustomFeatures.MyFeatures object at 0x7ff98492ddd8>>,\n",
      " <bound method MyFeatures.suffix of <CustomFeatures.MyFeatures object at 0x7ff98492ddd8>>]\n",
      "[<bound method MyFeatures.getLemma of <CustomFeatures.MyFeatures object at 0x7ff98492ddd8>>,\n",
      " <bound method MyFeatures.getPOSTag of <CustomFeatures.MyFeatures object at 0x7ff98492ddd8>>]\n",
      "[<bound method MyFeatures.getPOSTag of <CustomFeatures.MyFeatures object at 0x7ff98492ddd8>>]\n",
      "\n",
      "[<bound method MyFeatures.hasStrangeChars of <CustomFeatures.MyFeatures object at 0x7ff98492df28>>,\n",
      " <bound method MyFeatures.isTitleCase of <CustomFeatures.MyFeatures object at 0x7ff98492df28>>,\n",
      " <bound method MyFeatures.lenprefix of <CustomFeatures.MyFeatures object at 0x7ff98492df28>>,\n",
      " <bound method MyFeatures.lensuffix of <CustomFeatures.MyFeatures object at 0x7ff98492df28>>,\n",
      " <bound method MyFeatures.lenword of <CustomFeatures.MyFeatures object at 0x7ff98492df28>>,\n",
      " <bound method MyFeatures.moreThan10chars of <CustomFeatures.MyFeatures object at 0x7ff98492df28>>,\n",
      " <bound method MyFeatures.prefix of <CustomFeatures.MyFeatures object at 0x7ff98492df28>>,\n",
      " <bound method MyFeatures.suffix of <CustomFeatures.MyFeatures object at 0x7ff98492df28>>]\n",
      "[<bound method MyFeatures.getLemma of <CustomFeatures.MyFeatures object at 0x7ff98492df28>>,\n",
      " <bound method MyFeatures.getPOSTag of <CustomFeatures.MyFeatures object at 0x7ff98492df28>>]\n",
      "[<bound method MyFeatures.getPOSTag of <CustomFeatures.MyFeatures object at 0x7ff98492df28>>]\n",
      "\n",
      "[<bound method MyFeatures.hasStrangeChars of <CustomFeatures.MyFeatures object at 0x7ff98492a0b8>>,\n",
      " <bound method MyFeatures.isLowerCase of <CustomFeatures.MyFeatures object at 0x7ff98492a0b8>>,\n",
      " <bound method MyFeatures.isTitleCase of <CustomFeatures.MyFeatures object at 0x7ff98492a0b8>>,\n",
      " <bound method MyFeatures.isUpperCase of <CustomFeatures.MyFeatures object at 0x7ff98492a0b8>>,\n",
      " <bound method MyFeatures.lenprefix of <CustomFeatures.MyFeatures object at 0x7ff98492a0b8>>,\n",
      " <bound method MyFeatures.moreThan10chars of <CustomFeatures.MyFeatures object at 0x7ff98492a0b8>>,\n",
      " <bound method MyFeatures.prefix of <CustomFeatures.MyFeatures object at 0x7ff98492a0b8>>,\n",
      " <bound method MyFeatures.suffix of <CustomFeatures.MyFeatures object at 0x7ff98492a0b8>>]\n",
      "[<bound method MyFeatures.getLemma of <CustomFeatures.MyFeatures object at 0x7ff98492a0b8>>,\n",
      " <bound method MyFeatures.getPOSTag of <CustomFeatures.MyFeatures object at 0x7ff98492a0b8>>]\n",
      "[<bound method MyFeatures.getPOSTag of <CustomFeatures.MyFeatures object at 0x7ff98492a0b8>>]\n",
      "\n",
      "[<bound method MyFeatures.hasStrangeChars of <CustomFeatures.MyFeatures object at 0x7ff98492dda0>>,\n",
      " <bound method MyFeatures.isLowerCase of <CustomFeatures.MyFeatures object at 0x7ff98492dda0>>,\n",
      " <bound method MyFeatures.isTitleCase of <CustomFeatures.MyFeatures object at 0x7ff98492dda0>>,\n",
      " <bound method MyFeatures.isUpperCase of <CustomFeatures.MyFeatures object at 0x7ff98492dda0>>,\n",
      " <bound method MyFeatures.lenprefix of <CustomFeatures.MyFeatures object at 0x7ff98492dda0>>,\n",
      " <bound method MyFeatures.lensuffix of <CustomFeatures.MyFeatures object at 0x7ff98492dda0>>,\n",
      " <bound method MyFeatures.lenword of <CustomFeatures.MyFeatures object at 0x7ff98492dda0>>,\n",
      " <bound method MyFeatures.moreThan10chars of <CustomFeatures.MyFeatures object at 0x7ff98492dda0>>]\n",
      "[<bound method MyFeatures.getLemma of <CustomFeatures.MyFeatures object at 0x7ff98492dda0>>,\n",
      " <bound method MyFeatures.getPOSTag of <CustomFeatures.MyFeatures object at 0x7ff98492dda0>>]\n",
      "[<bound method MyFeatures.getPOSTag of <CustomFeatures.MyFeatures object at 0x7ff98492dda0>>]\n",
      "\n"
     ]
    }
   ],
   "source": [
    "# generate feature subsets\n",
    "from CustomFeatures import MyFeatures\n",
    "from NERmodel import NERmodel\n",
    "import subprocess\n",
    "import traceback, sys\n",
    "import pickle\n",
    "import pprint\n",
    "\n",
    "\n",
    "# name the batch training\n",
    "training_set_name = \"basics\"\n",
    "\n",
    "# preapre different MyFeature instances\n",
    "fs = []\n",
    "# number of model permutations\n",
    "m = 5\n",
    "# for now it is random shuffling, but this is gonna be a manual selection of features\n",
    "for i in range(m):\n",
    "    try:\n",
    "        mf = MyFeatures()\n",
    "        mf.deriveNewFeatureSet(degree=3)\n",
    "        fs.append(mf)\n",
    "        #mf.printActiveFeatureFunctions()\n",
    "        #print()\n",
    "    except:\n",
    "        pass\n",
    "    \n",
    "for f in fs:\n",
    "    #print(dir(mf))\n",
    "    pprint.pprint(f.morpho_features)\n",
    "    pprint.pprint(f.window_1_before)\n",
    "    pprint.pprint(f.window_2_after)\n",
    "    print()"
   ]
  }
 ],
 "metadata": {
  "kernelspec": {
   "display_name": "ahltmai",
   "language": "python",
   "name": "ahltmai"
  },
  "language_info": {
   "codemirror_mode": {
    "name": "ipython",
    "version": 3
   },
   "file_extension": ".py",
   "mimetype": "text/x-python",
   "name": "python",
   "nbconvert_exporter": "python",
   "pygments_lexer": "ipython3",
   "version": "3.6.4"
  }
 },
 "nbformat": 4,
 "nbformat_minor": 2
}
