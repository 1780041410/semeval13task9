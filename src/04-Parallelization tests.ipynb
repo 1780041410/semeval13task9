{
 "cells": [
  {
   "cell_type": "code",
   "execution_count": 2,
   "metadata": {},
   "outputs": [
    {
     "name": "stdout",
     "output_type": "stream",
     "text": [
      "[1, 2, 3, 4, 5, 6, 7, 8, 9, 10]\n",
      "10.008702516555786\n",
      "[1, 2, 3, 4, 5, 6, 7, 8, 9, 10]\n",
      "3.033686637878418\n"
     ]
    }
   ],
   "source": [
    "from time import sleep\n",
    "from joblib import Parallel, delayed\n",
    "import time\n",
    "\n",
    "\n",
    "\n",
    "def slowinc(x):\n",
    "    sleep(1)  # take a bit of time to simulate real work\n",
    "    return x + 1\n",
    "\n",
    "start = time.time()\n",
    "print([slowinc(i) for i in range(10)])\n",
    "end = time.time()\n",
    "print(end - start)\n",
    "\n",
    "start = time.time()\n",
    "print(Parallel(n_jobs=4)(delayed(slowinc)(i) for i in range(10)) )\n",
    "end = time.time()\n",
    "print(end - start)\n"
   ]
  },
  {
   "cell_type": "code",
   "execution_count": 2,
   "metadata": {},
   "outputs": [
    {
     "name": "stdout",
     "output_type": "stream",
     "text": [
      "bm2debug\n",
      "['mod001', 'mod002', 'mod003', 'mod004', 'mod005', 'mod045', 'mod051', 'mod052', 'mod053', 'mod054', 'mod055']\n",
      "model bm2debugmod004:\n",
      "model bm2debugmod054:\n",
      "accuracy 0.0 precision 0 recall 0 F1 0\n",
      "accuracy 0.0 total 2 cor 0 par 0 mis 2 \n",
      "job time: 24.211796522140503\n",
      "\n",
      "model bm2debugmod003:\n",
      "model bm2debugmod053:\n",
      "model bm2debugmod001:\n",
      "accuracy 0.0 precision 0 recall 0 F1 0\n",
      "model bm2debugmod052:\n",
      "accuracy 0.0 total 2 cor 0 par 0 mis 2 \n",
      "job time: 24.77782392501831\n",
      "\n"
     ]
    },
    {
     "name": "stderr",
     "output_type": "stream",
     "text": [
      "Process Process-6:\n",
      "Process Process-13:\n",
      "Process Process-8:\n",
      "Traceback (most recent call last):\n",
      "Traceback (most recent call last):\n",
      "Process Process-14:\n",
      "Process Process-11:\n",
      "Process Process-10:\n",
      "Exception ignored in: <bound method hmm_tagger.<lambda> of <pyfreeling.hmm_tagger; proxy of <Swig Object of type 'freeling::hmm_tagger *' at 0x7f140d932f60> >>\n",
      "  File \"/home/pau/anaconda3/envs/ahltmai/lib/python3.6/multiprocessing/process.py\", line 258, in _bootstrap\n",
      "    self.run()\n",
      "Traceback (most recent call last):\n",
      "Traceback (most recent call last):\n"
     ]
    },
    {
     "name": "stdout",
     "output_type": "stream",
     "text": [
      "Exception in user code:\n"
     ]
    },
    {
     "name": "stderr",
     "output_type": "stream",
     "text": [
      "Traceback (most recent call last):\n",
      "  File \"/home/pau/anaconda3/envs/ahltmai/lib/python3.6/multiprocessing/process.py\", line 258, in _bootstrap\n",
      "    self.run()\n",
      "Traceback (most recent call last):\n",
      "  File \"/home/pau/anaconda3/envs/ahltmai/lib/python3.6/multiprocessing/process.py\", line 258, in _bootstrap\n",
      "    self.run()\n",
      "  File \"/home/pau/anaconda3/envs/ahltmai/lib/python3.6/multiprocessing/process.py\", line 258, in _bootstrap\n",
      "    self.run()\n",
      "  File \"/home/pau/anaconda3/envs/ahltmai/lib/python3.6/multiprocessing/process.py\", line 93, in run\n",
      "    self._target(*self._args, **self._kwargs)\n",
      "  File \"/media/disk/home/pau/Projectes/AHLT-mai/src/NERmodel.py\", line 614, in trainTestModel\n",
      "    limit=limitTest)\n",
      "  File \"/home/pau/anaconda3/envs/ahltmai/lib/python3.6/multiprocessing/process.py\", line 258, in _bootstrap\n",
      "    self.run()\n",
      "  File \"/home/pau/anaconda3/envs/ahltmai/lib/python3.6/pyfreeling.py\", line 5852, in <lambda>\n",
      "  File \"/media/disk/home/pau/Projectes/AHLT-mai/src/NERmodel.py\", line 101, in testFeatureExtraction\n",
      "    self.testdata.extractFeatures(limit)\n",
      "  File \"/home/pau/anaconda3/envs/ahltmai/lib/python3.6/multiprocessing/process.py\", line 93, in run\n",
      "    self._target(*self._args, **self._kwargs)\n"
     ]
    },
    {
     "name": "stdout",
     "output_type": "stream",
     "text": [
      "------------------------------------------------------------\n"
     ]
    },
    {
     "name": "stderr",
     "output_type": "stream",
     "text": [
      "  File \"/home/pau/anaconda3/envs/ahltmai/lib/python3.6/multiprocessing/process.py\", line 93, in run\n",
      "    self._target(*self._args, **self._kwargs)\n",
      "  File \"/media/disk/home/pau/Projectes/AHLT-mai/src/FeatureExtraction.py\", line 175, in extractFeatures\n",
      "    self.drugbank.addLookupFeature(element)\n",
      "    __del__ = lambda self: None\n",
      "  File \"/home/pau/anaconda3/envs/ahltmai/lib/python3.6/multiprocessing/process.py\", line 93, in run\n",
      "    self._target(*self._args, **self._kwargs)\n",
      "  File \"/media/disk/home/pau/Projectes/AHLT-mai/src/DrugBankLookup.py\", line 100, in addLookupFeature\n",
      "    feature[\"lookup\"] = self.lookup(feature[\"word\"].lower())\n",
      "  File \"/media/disk/home/pau/Projectes/AHLT-mai/src/DrugBankLookup.py\", line 95, in lookup\n",
      "    return word in self.data\n",
      "  File \"/media/disk/home/pau/Projectes/AHLT-mai/src/NERmodel.py\", line 629, in trainTestModel\n",
      "    scores = model.autoEvaluation(jobconf[\"testFolder\"])\n"
     ]
    },
    {
     "name": "stdout",
     "output_type": "stream",
     "text": [
      "Traceback (most recent call last):\n"
     ]
    },
    {
     "name": "stderr",
     "output_type": "stream",
     "text": [
      "KeyboardInterrupt\n",
      "  File \"/home/pau/anaconda3/envs/ahltmai/lib/python3.6/multiprocessing/process.py\", line 93, in run\n",
      "    self._target(*self._args, **self._kwargs)\n",
      "  File \"/media/disk/home/pau/Projectes/AHLT-mai/src/NERmodel.py\", line 629, in trainTestModel\n",
      "    scores = model.autoEvaluation(jobconf[\"testFolder\"])\n",
      "  File \"/media/disk/home/pau/Projectes/AHLT-mai/src/NERmodel.py\", line 629, in trainTestModel\n",
      "    scores = model.autoEvaluation(jobconf[\"testFolder\"])\n",
      "  File \"/media/disk/home/pau/Projectes/AHLT-mai/src/NERmodel.py\", line 418, in autoEvaluation\n",
      "    out, err = process.communicate()\n",
      "  File \"/media/disk/home/pau/Projectes/AHLT-mai/src/NERmodel.py\", line 629, in trainTestModel\n",
      "    scores = model.autoEvaluation(jobconf[\"testFolder\"])\n",
      "  File \"/home/pau/anaconda3/envs/ahltmai/lib/python3.6/subprocess.py\", line 830, in communicate\n",
      "    stdout = self.stdout.read()\n",
      "  File \"/media/disk/home/pau/Projectes/AHLT-mai/src/NERmodel.py\", line 418, in autoEvaluation\n",
      "    out, err = process.communicate()\n",
      "  File \"/home/pau/anaconda3/envs/ahltmai/lib/python3.6/subprocess.py\", line 830, in communicate\n",
      "    stdout = self.stdout.read()\n",
      "KeyboardInterrupt\n",
      "KeyboardInterrupt\n"
     ]
    },
    {
     "name": "stdout",
     "output_type": "stream",
     "text": [
      "  File \"/home/pau/anaconda3/envs/ahltmai/lib/python3.6/pyfreeling.py\", line 4112, in <lambda>\n",
      "    __setattr__ = lambda self, name, value: _swig_setattr(self, word, name, value)\n",
      "KeyboardInterrupt\n"
     ]
    },
    {
     "name": "stderr",
     "output_type": "stream",
     "text": [
      "  File \"/media/disk/home/pau/Projectes/AHLT-mai/src/NERmodel.py\", line 418, in autoEvaluation\n",
      "    out, err = process.communicate()\n"
     ]
    },
    {
     "name": "stdout",
     "output_type": "stream",
     "text": [
      "\n",
      "The above exception was the direct cause of the following exception:\n",
      "\n"
     ]
    },
    {
     "name": "stderr",
     "output_type": "stream",
     "text": [
      "  File \"/home/pau/anaconda3/envs/ahltmai/lib/python3.6/subprocess.py\", line 830, in communicate\n",
      "    stdout = self.stdout.read()\n"
     ]
    },
    {
     "name": "stdout",
     "output_type": "stream",
     "text": [
      "Traceback (most recent call last):\n",
      "  File \"/home/pau/anaconda3/envs/ahltmai/lib/python3.6/pyfreeling.py\", line 4112, in <lambda>\n",
      "    __setattr__ = lambda self, name, value: _swig_setattr(self, word, name, value)\n",
      "  File \"/home/pau/anaconda3/envs/ahltmai/lib/python3.6/pyfreeling.py\", line 59, in _swig_setattr\n",
      "    return _swig_setattr_nondynamic(self, class_type, name, value, 0)\n"
     ]
    },
    {
     "name": "stderr",
     "output_type": "stream",
     "text": [
      "KeyboardInterrupt\n",
      "Process Process-16:\n",
      "KeyboardInterrupt\n",
      "  File \"/media/disk/home/pau/Projectes/AHLT-mai/src/NERmodel.py\", line 418, in autoEvaluation\n",
      "    out, err = process.communicate()\n",
      "Traceback (most recent call last):\n",
      "  File \"/home/pau/anaconda3/envs/ahltmai/lib/python3.6/subprocess.py\", line 830, in communicate\n",
      "    stdout = self.stdout.read()\n",
      "KeyboardInterrupt\n"
     ]
    },
    {
     "name": "stdout",
     "output_type": "stream",
     "text": [
      "  File \"/home/pau/anaconda3/envs/ahltmai/lib/python3.6/pyfreeling.py\", line 43, in _swig_setattr_nondynamic\n",
      "    if type(value).__name__ == 'SwigPyObject':\n",
      "SystemError: <class 'type'> returned a result with an error set\n"
     ]
    },
    {
     "name": "stderr",
     "output_type": "stream",
     "text": [
      "  File \"/home/pau/anaconda3/envs/ahltmai/lib/python3.6/multiprocessing/process.py\", line 258, in _bootstrap\n",
      "    self.run()\n"
     ]
    },
    {
     "name": "stdout",
     "output_type": "stream",
     "text": [
      "\n",
      "The above exception was the direct cause of the following exception:\n",
      "\n"
     ]
    },
    {
     "name": "stderr",
     "output_type": "stream",
     "text": [
      "  File \"/home/pau/anaconda3/envs/ahltmai/lib/python3.6/multiprocessing/process.py\", line 93, in run\n",
      "    self._target(*self._args, **self._kwargs)\n",
      "Process Process-7:\n",
      "  File \"/media/disk/home/pau/Projectes/AHLT-mai/src/NERmodel.py\", line 614, in trainTestModel\n",
      "    limit=limitTest)\n"
     ]
    },
    {
     "name": "stdout",
     "output_type": "stream",
     "text": [
      "Traceback (most recent call last):\n",
      "  File \"/home/pau/anaconda3/envs/ahltmai/lib/python3.6/pyfreeling.py\", line 4112, in <lambda>\n",
      "    __setattr__ = lambda self, name, value: _swig_setattr(self, word, name, value)\n",
      "  File \"/home/pau/anaconda3/envs/ahltmai/lib/python3.6/pyfreeling.py\", line 59, in _swig_setattr\n",
      "    return _swig_setattr_nondynamic(self, class_type, name, value, 0)\n"
     ]
    },
    {
     "name": "stderr",
     "output_type": "stream",
     "text": [
      "  File \"/media/disk/home/pau/Projectes/AHLT-mai/src/NERmodel.py\", line 101, in testFeatureExtraction\n",
      "    self.testdata.extractFeatures(limit)\n"
     ]
    },
    {
     "name": "stdout",
     "output_type": "stream",
     "text": [
      "  File \"/home/pau/anaconda3/envs/ahltmai/lib/python3.6/pyfreeling.py\", line 43, in _swig_setattr_nondynamic\n",
      "    if type(value).__name__ == 'SwigPyObject':\n",
      "SystemError: <class 'type'> returned a result with an error set\n",
      "\n",
      "The above exception was the direct cause of the following exception:\n",
      "\n"
     ]
    },
    {
     "name": "stderr",
     "output_type": "stream",
     "text": [
      "  File \"/media/disk/home/pau/Projectes/AHLT-mai/src/FeatureExtraction.py\", line 178, in extractFeatures\n",
      "    self.custom.addFeatures(element, maxwordlength=mwl)\n"
     ]
    },
    {
     "name": "stdout",
     "output_type": "stream",
     "text": [
      "Traceback (most recent call last):\n",
      "  File \"/home/pau/anaconda3/envs/ahltmai/lib/python3.6/pyfreeling.py\", line 4112, in <lambda>\n",
      "    __setattr__ = lambda self, name, value: _swig_setattr(self, word, name, value)\n",
      "  File \"/home/pau/anaconda3/envs/ahltmai/lib/python3.6/pyfreeling.py\", line 59, in _swig_setattr\n",
      "    return _swig_setattr_nondynamic(self, class_type, name, value, 0)\n"
     ]
    },
    {
     "name": "stderr",
     "output_type": "stream",
     "text": [
      "  File \"/media/disk/home/pau/Projectes/AHLT-mai/src/CustomFeatures.py\", line 213, in addFeatures\n",
      "    resultFeatures[func.__name__+\"_before2\"]=func( beforeword2)\n"
     ]
    },
    {
     "name": "stdout",
     "output_type": "stream",
     "text": [
      "  File \"/home/pau/anaconda3/envs/ahltmai/lib/python3.6/pyfreeling.py\", line 43, in _swig_setattr_nondynamic\n",
      "    if type(value).__name__ == 'SwigPyObject':\n"
     ]
    },
    {
     "name": "stderr",
     "output_type": "stream",
     "text": [
      "  File \"/media/disk/home/pau/Projectes/AHLT-mai/src/CustomFeatures.py\", line 331, in hasStrangeChars\n",
      "    return len(re.findall(r'[\\W_]',word))>0\n"
     ]
    },
    {
     "name": "stdout",
     "output_type": "stream",
     "text": [
      "SystemError: <class 'type'> returned a result with an error set\n"
     ]
    },
    {
     "name": "stderr",
     "output_type": "stream",
     "text": [
      "  File \"/home/pau/anaconda3/envs/ahltmai/lib/python3.6/re.py\", line 222, in findall\n",
      "    return _compile(pattern, flags).findall(string)\n",
      "  File \"/home/pau/anaconda3/envs/ahltmai/lib/python3.6/re.py\", line 289, in _compile\n",
      "    p, loc = _cache[type(pattern), pattern, flags]\n",
      "KeyboardInterrupt\n"
     ]
    },
    {
     "name": "stdout",
     "output_type": "stream",
     "text": [
      "\n",
      "The above exception was the direct cause of the following exception:\n",
      "\n",
      "Traceback (most recent call last):\n",
      "  File \"/home/pau/anaconda3/envs/ahltmai/lib/python3.6/pyfreeling.py\", line 4112, in <lambda>\n",
      "    __setattr__ = lambda self, name, value: _swig_setattr(self, word, name, value)\n",
      "  File \"/home/pau/anaconda3/envs/ahltmai/lib/python3.6/pyfreeling.py\", line 59, in _swig_setattr\n",
      "    return _swig_setattr_nondynamic(self, class_type, name, value, 0)\n",
      "  File \"/home/pau/anaconda3/envs/ahltmai/lib/python3.6/pyfreeling.py\", line 43, in _swig_setattr_nondynamic\n",
      "    if type(value).__name__ == 'SwigPyObject':\n",
      "SystemError: <class 'type'> returned a result with an error set\n",
      "\n",
      "The above exception was the direct cause of the following exception:\n",
      "\n",
      "Traceback (most recent call last):\n",
      "  File \"/home/pau/anaconda3/envs/ahltmai/lib/python3.6/pyfreeling.py\", line 4112, in <lambda>\n",
      "    __setattr__ = lambda self, name, value: _swig_setattr(self, word, name, value)\n",
      "  File \"/home/pau/anaconda3/envs/ahltmai/lib/python3.6/pyfreeling.py\", line 59, in _swig_setattr\n",
      "    return _swig_setattr_nondynamic(self, class_type, name, value, 0)\n",
      "  File \"/home/pau/anaconda3/envs/ahltmai/lib/python3.6/pyfreeling.py\", line 43, in _swig_setattr_nondynamic\n",
      "    if type(value).__name__ == 'SwigPyObject':\n",
      "SystemError: <class 'type'> returned a result with an error set\n",
      "\n",
      "The above exception was the direct cause of the following exception:\n",
      "\n",
      "Traceback (most recent call last):\n",
      "  File \"/home/pau/anaconda3/envs/ahltmai/lib/python3.6/pyfreeling.py\", line 4112, in <lambda>\n",
      "    __setattr__ = lambda self, name, value: _swig_setattr(self, word, name, value)\n",
      "  File \"/home/pau/anaconda3/envs/ahltmai/lib/python3.6/pyfreeling.py\", line 59, in _swig_setattr\n",
      "    return _swig_setattr_nondynamic(self, class_type, name, value, 0)\n",
      "  File \"/home/pau/anaconda3/envs/ahltmai/lib/python3.6/pyfreeling.py\", line 43, in _swig_setattr_nondynamic\n",
      "    if type(value).__name__ == 'SwigPyObject':\n",
      "SystemError: <class 'type'> returned a result with an error set\n",
      "\n",
      "The above exception was the direct cause of the following exception:\n",
      "\n",
      "Traceback (most recent call last):\n",
      "  File \"/home/pau/anaconda3/envs/ahltmai/lib/python3.6/pyfreeling.py\", line 4112, in <lambda>\n",
      "    __setattr__ = lambda self, name, value: _swig_setattr(self, word, name, value)\n",
      "  File \"/home/pau/anaconda3/envs/ahltmai/lib/python3.6/pyfreeling.py\", line 59, in _swig_setattr\n",
      "    return _swig_setattr_nondynamic(self, class_type, name, value, 0)\n",
      "  File \"/home/pau/anaconda3/envs/ahltmai/lib/python3.6/pyfreeling.py\", line 43, in _swig_setattr_nondynamic\n",
      "    if type(value).__name__ == 'SwigPyObject':\n",
      "SystemError: <class 'type'> returned a result with an error set\n",
      "\n",
      "The above exception was the direct cause of the following exception:\n",
      "\n"
     ]
    },
    {
     "ename": "KeyboardInterrupt",
     "evalue": "",
     "output_type": "error",
     "traceback": [
      "\u001b[0;31m---------------------------------------------------------------------------\u001b[0m",
      "\u001b[0;31mKeyboardInterrupt\u001b[0m                         Traceback (most recent call last)",
      "\u001b[0;32m<ipython-input-2-eb600e0d0a6b>\u001b[0m in \u001b[0;36m<module>\u001b[0;34m()\u001b[0m\n\u001b[1;32m     11\u001b[0m \u001b[0;34m\u001b[0m\u001b[0m\n\u001b[1;32m     12\u001b[0m \u001b[0;31m# quick tests (no match but fast)\u001b[0m\u001b[0;34m\u001b[0m\u001b[0;34m\u001b[0m\u001b[0m\n\u001b[0;32m---> 13\u001b[0;31m \u001b[0mNERmodel\u001b[0m\u001b[0;34m.\u001b[0m\u001b[0mparallelbatchTraining\u001b[0m\u001b[0;34m(\u001b[0m\u001b[0;34m'../data/batches/debug_batch6.yaml'\u001b[0m\u001b[0;34m)\u001b[0m\u001b[0;34m\u001b[0m\u001b[0m\n\u001b[0m\u001b[1;32m     14\u001b[0m \u001b[0;31m#NERmodel.batchTraining('../data/batches/debug_batch6.yaml')\u001b[0m\u001b[0;34m\u001b[0m\u001b[0;34m\u001b[0m\u001b[0m\n",
      "\u001b[0;32m/media/disk/home/pau/Projectes/AHLT-mai/src/NERmodel.py\u001b[0m in \u001b[0;36mparallelbatchTraining\u001b[0;34m(configfile, status)\u001b[0m\n\u001b[1;32m    810\u001b[0m \u001b[0;34m\u001b[0m\u001b[0m\n\u001b[1;32m    811\u001b[0m         \u001b[0;32mfor\u001b[0m \u001b[0mp\u001b[0m \u001b[0;32min\u001b[0m \u001b[0mprocs\u001b[0m\u001b[0;34m:\u001b[0m \u001b[0mp\u001b[0m\u001b[0;34m.\u001b[0m\u001b[0mstart\u001b[0m\u001b[0;34m(\u001b[0m\u001b[0;34m)\u001b[0m\u001b[0;34m\u001b[0m\u001b[0m\n\u001b[0;32m--> 812\u001b[0;31m         \u001b[0;32mfor\u001b[0m \u001b[0mp\u001b[0m \u001b[0;32min\u001b[0m \u001b[0mprocs\u001b[0m\u001b[0;34m:\u001b[0m \u001b[0mp\u001b[0m\u001b[0;34m.\u001b[0m\u001b[0mjoin\u001b[0m\u001b[0;34m(\u001b[0m\u001b[0;34m)\u001b[0m\u001b[0;34m\u001b[0m\u001b[0m\n\u001b[0m\u001b[1;32m    813\u001b[0m \u001b[0;34m\u001b[0m\u001b[0m\n\u001b[1;32m    814\u001b[0m \u001b[0;34m\u001b[0m\u001b[0m\n",
      "\u001b[0;32m~/anaconda3/envs/ahltmai/lib/python3.6/multiprocessing/process.py\u001b[0m in \u001b[0;36mjoin\u001b[0;34m(self, timeout)\u001b[0m\n\u001b[1;32m    122\u001b[0m         \u001b[0;32massert\u001b[0m \u001b[0mself\u001b[0m\u001b[0;34m.\u001b[0m\u001b[0m_parent_pid\u001b[0m \u001b[0;34m==\u001b[0m \u001b[0mos\u001b[0m\u001b[0;34m.\u001b[0m\u001b[0mgetpid\u001b[0m\u001b[0;34m(\u001b[0m\u001b[0;34m)\u001b[0m\u001b[0;34m,\u001b[0m \u001b[0;34m'can only join a child process'\u001b[0m\u001b[0;34m\u001b[0m\u001b[0m\n\u001b[1;32m    123\u001b[0m         \u001b[0;32massert\u001b[0m \u001b[0mself\u001b[0m\u001b[0;34m.\u001b[0m\u001b[0m_popen\u001b[0m \u001b[0;32mis\u001b[0m \u001b[0;32mnot\u001b[0m \u001b[0;32mNone\u001b[0m\u001b[0;34m,\u001b[0m \u001b[0;34m'can only join a started process'\u001b[0m\u001b[0;34m\u001b[0m\u001b[0m\n\u001b[0;32m--> 124\u001b[0;31m         \u001b[0mres\u001b[0m \u001b[0;34m=\u001b[0m \u001b[0mself\u001b[0m\u001b[0;34m.\u001b[0m\u001b[0m_popen\u001b[0m\u001b[0;34m.\u001b[0m\u001b[0mwait\u001b[0m\u001b[0;34m(\u001b[0m\u001b[0mtimeout\u001b[0m\u001b[0;34m)\u001b[0m\u001b[0;34m\u001b[0m\u001b[0m\n\u001b[0m\u001b[1;32m    125\u001b[0m         \u001b[0;32mif\u001b[0m \u001b[0mres\u001b[0m \u001b[0;32mis\u001b[0m \u001b[0;32mnot\u001b[0m \u001b[0;32mNone\u001b[0m\u001b[0;34m:\u001b[0m\u001b[0;34m\u001b[0m\u001b[0m\n\u001b[1;32m    126\u001b[0m             \u001b[0m_children\u001b[0m\u001b[0;34m.\u001b[0m\u001b[0mdiscard\u001b[0m\u001b[0;34m(\u001b[0m\u001b[0mself\u001b[0m\u001b[0;34m)\u001b[0m\u001b[0;34m\u001b[0m\u001b[0m\n",
      "\u001b[0;32m~/anaconda3/envs/ahltmai/lib/python3.6/multiprocessing/popen_fork.py\u001b[0m in \u001b[0;36mwait\u001b[0;34m(self, timeout)\u001b[0m\n\u001b[1;32m     55\u001b[0m                     \u001b[0;32mreturn\u001b[0m \u001b[0;32mNone\u001b[0m\u001b[0;34m\u001b[0m\u001b[0m\n\u001b[1;32m     56\u001b[0m             \u001b[0;31m# This shouldn't block if wait() returned successfully.\u001b[0m\u001b[0;34m\u001b[0m\u001b[0;34m\u001b[0m\u001b[0m\n\u001b[0;32m---> 57\u001b[0;31m             \u001b[0;32mreturn\u001b[0m \u001b[0mself\u001b[0m\u001b[0;34m.\u001b[0m\u001b[0mpoll\u001b[0m\u001b[0;34m(\u001b[0m\u001b[0mos\u001b[0m\u001b[0;34m.\u001b[0m\u001b[0mWNOHANG\u001b[0m \u001b[0;32mif\u001b[0m \u001b[0mtimeout\u001b[0m \u001b[0;34m==\u001b[0m \u001b[0;36m0.0\u001b[0m \u001b[0;32melse\u001b[0m \u001b[0;36m0\u001b[0m\u001b[0;34m)\u001b[0m\u001b[0;34m\u001b[0m\u001b[0m\n\u001b[0m\u001b[1;32m     58\u001b[0m         \u001b[0;32mreturn\u001b[0m \u001b[0mself\u001b[0m\u001b[0;34m.\u001b[0m\u001b[0mreturncode\u001b[0m\u001b[0;34m\u001b[0m\u001b[0m\n\u001b[1;32m     59\u001b[0m \u001b[0;34m\u001b[0m\u001b[0m\n",
      "\u001b[0;32m~/anaconda3/envs/ahltmai/lib/python3.6/multiprocessing/popen_fork.py\u001b[0m in \u001b[0;36mpoll\u001b[0;34m(self, flag)\u001b[0m\n\u001b[1;32m     33\u001b[0m             \u001b[0;32mwhile\u001b[0m \u001b[0;32mTrue\u001b[0m\u001b[0;34m:\u001b[0m\u001b[0;34m\u001b[0m\u001b[0m\n\u001b[1;32m     34\u001b[0m                 \u001b[0;32mtry\u001b[0m\u001b[0;34m:\u001b[0m\u001b[0;34m\u001b[0m\u001b[0m\n\u001b[0;32m---> 35\u001b[0;31m                     \u001b[0mpid\u001b[0m\u001b[0;34m,\u001b[0m \u001b[0msts\u001b[0m \u001b[0;34m=\u001b[0m \u001b[0mos\u001b[0m\u001b[0;34m.\u001b[0m\u001b[0mwaitpid\u001b[0m\u001b[0;34m(\u001b[0m\u001b[0mself\u001b[0m\u001b[0;34m.\u001b[0m\u001b[0mpid\u001b[0m\u001b[0;34m,\u001b[0m \u001b[0mflag\u001b[0m\u001b[0;34m)\u001b[0m\u001b[0;34m\u001b[0m\u001b[0m\n\u001b[0m\u001b[1;32m     36\u001b[0m                 \u001b[0;32mexcept\u001b[0m \u001b[0mOSError\u001b[0m \u001b[0;32mas\u001b[0m \u001b[0me\u001b[0m\u001b[0;34m:\u001b[0m\u001b[0;34m\u001b[0m\u001b[0m\n\u001b[1;32m     37\u001b[0m                     \u001b[0;31m# Child process not yet created. See #1731717\u001b[0m\u001b[0;34m\u001b[0m\u001b[0;34m\u001b[0m\u001b[0m\n",
      "\u001b[0;31mKeyboardInterrupt\u001b[0m: "
     ]
    },
    {
     "name": "stdout",
     "output_type": "stream",
     "text": [
      "Traceback (most recent call last):\n",
      "  File \"/media/disk/home/pau/Projectes/AHLT-mai/src/NERmodel.py\", line 614, in trainTestModel\n",
      "    limit=limitTest)\n"
     ]
    },
    {
     "name": "stderr",
     "output_type": "stream",
     "text": [
      "Traceback (most recent call last):\n",
      "Traceback (most recent call last):\n"
     ]
    },
    {
     "name": "stdout",
     "output_type": "stream",
     "text": [
      "  File \"/media/disk/home/pau/Projectes/AHLT-mai/src/NERmodel.py\", line 101, in testFeatureExtraction\n",
      "    self.testdata.extractFeatures(limit)\n",
      "  File \"/media/disk/home/pau/Projectes/AHLT-mai/src/FeatureExtraction.py\", line 161, in extractFeatures\n",
      "    element[\"features\"] = self.freeling.processText(element['text'], element['id'])\n"
     ]
    },
    {
     "name": "stderr",
     "output_type": "stream",
     "text": [
      "  File \"/home/pau/anaconda3/envs/ahltmai/lib/python3.6/multiprocessing/process.py\", line 258, in _bootstrap\n",
      "    self.run()\n",
      "  File \"/home/pau/anaconda3/envs/ahltmai/lib/python3.6/multiprocessing/process.py\", line 93, in run\n",
      "    self._target(*self._args, **self._kwargs)\n"
     ]
    },
    {
     "name": "stdout",
     "output_type": "stream",
     "text": [
      "  File \"/media/disk/home/pau/Projectes/AHLT-mai/src/FreelingFeatures.py\", line 79, in processText\n",
      "    self.lw = self.tk.tokenize(text)\n"
     ]
    },
    {
     "name": "stderr",
     "output_type": "stream",
     "text": [
      "  File \"/media/disk/home/pau/Projectes/AHLT-mai/src/NERmodel.py\", line 616, in trainTestModel\n",
      "    model.predict()\n",
      "  File \"/home/pau/anaconda3/envs/ahltmai/lib/python3.6/multiprocessing/process.py\", line 258, in _bootstrap\n",
      "    self.run()\n",
      "  File \"/media/disk/home/pau/Projectes/AHLT-mai/src/NERmodel.py\", line 135, in predict\n",
      "    self.predictionResults = self.algo.predict(self.pipeline, self.testdata.datadict, ertype=mode)\n"
     ]
    },
    {
     "name": "stdout",
     "output_type": "stream",
     "text": [
      "  File \"/home/pau/anaconda3/envs/ahltmai/lib/python3.6/pyfreeling.py\", line 5453, in tokenize\n",
      "    return _pyfreeling.tokenizer_tokenize(self, *args)\n"
     ]
    },
    {
     "name": "stderr",
     "output_type": "stream",
     "text": [
      "  File \"/home/pau/anaconda3/envs/ahltmai/lib/python3.6/multiprocessing/process.py\", line 93, in run\n",
      "    self._target(*self._args, **self._kwargs)\n",
      "  File \"/media/disk/home/pau/Projectes/AHLT-mai/src/SVMtrainer.py\", line 177, in predict\n",
      "    return pipeline.predict(X)\n",
      "  File \"/home/pau/anaconda3/envs/ahltmai/lib/python3.6/site-packages/sklearn/utils/metaestimators.py\", line 115, in <lambda>\n",
      "    out = lambda *args, **kwargs: self.fn(obj, *args, **kwargs)\n",
      "  File \"/home/pau/anaconda3/envs/ahltmai/lib/python3.6/site-packages/sklearn/pipeline.py\", line 307, in predict\n",
      "    return self.steps[-1][-1].predict(Xt)\n"
     ]
    },
    {
     "name": "stdout",
     "output_type": "stream",
     "text": [
      "SystemError: <built-in function tokenizer_tokenize> returned a result with an error set\n"
     ]
    },
    {
     "name": "stderr",
     "output_type": "stream",
     "text": [
      "  File \"/media/disk/home/pau/Projectes/AHLT-mai/src/NERmodel.py\", line 616, in trainTestModel\n",
      "    model.predict()\n",
      "  File \"/media/disk/home/pau/Projectes/AHLT-mai/src/NERmodel.py\", line 135, in predict\n",
      "    self.predictionResults = self.algo.predict(self.pipeline, self.testdata.datadict, ertype=mode)\n"
     ]
    },
    {
     "name": "stdout",
     "output_type": "stream",
     "text": [
      "------------------------------------------------------------\n"
     ]
    },
    {
     "name": "stderr",
     "output_type": "stream",
     "text": [
      "  File \"/home/pau/anaconda3/envs/ahltmai/lib/python3.6/site-packages/sklearn/svm/base.py\", line 548, in predict\n",
      "    y = super(BaseSVC, self).predict(X)\n",
      "  File \"/media/disk/home/pau/Projectes/AHLT-mai/src/SVMtrainer.py\", line 177, in predict\n",
      "    return pipeline.predict(X)\n",
      "  File \"/home/pau/anaconda3/envs/ahltmai/lib/python3.6/site-packages/sklearn/utils/metaestimators.py\", line 115, in <lambda>\n",
      "    out = lambda *args, **kwargs: self.fn(obj, *args, **kwargs)\n",
      "  File \"/home/pau/anaconda3/envs/ahltmai/lib/python3.6/site-packages/sklearn/pipeline.py\", line 307, in predict\n",
      "    return self.steps[-1][-1].predict(Xt)\n",
      "  File \"/home/pau/anaconda3/envs/ahltmai/lib/python3.6/site-packages/sklearn/svm/base.py\", line 548, in predict\n",
      "    y = super(BaseSVC, self).predict(X)\n",
      "  File \"/home/pau/anaconda3/envs/ahltmai/lib/python3.6/site-packages/sklearn/svm/base.py\", line 310, in predict\n",
      "    return predict(X)\n",
      "  File \"/home/pau/anaconda3/envs/ahltmai/lib/python3.6/site-packages/sklearn/svm/base.py\", line 310, in predict\n",
      "    return predict(X)\n",
      "  File \"/home/pau/anaconda3/envs/ahltmai/lib/python3.6/site-packages/sklearn/svm/base.py\", line 356, in _sparse_predict\n",
      "    self.probA_, self.probB_)\n",
      "  File \"/home/pau/anaconda3/envs/ahltmai/lib/python3.6/site-packages/sklearn/svm/base.py\", line 356, in _sparse_predict\n",
      "    self.probA_, self.probB_)\n",
      "KeyboardInterrupt\n"
     ]
    },
    {
     "name": "stdout",
     "output_type": "stream",
     "text": [
      "model mod051 has failed... \n"
     ]
    },
    {
     "name": "stderr",
     "output_type": "stream",
     "text": [
      "KeyboardInterrupt\n"
     ]
    }
   ],
   "source": [
    "from CustomFeatures import MyFeatures\n",
    "from NERmodel import NERmodel\n",
    "import subprocess\n",
    "import traceback, sys\n",
    "import pickle\n",
    "import yaml\n",
    "import os\n",
    "from time import sleep\n",
    "from joblib import Parallel, delayed\n",
    "import time\n",
    "\n",
    "# quick tests (no match but fast)\n",
    "NERmodel.parallelbatchTraining('../data/batches/debug_batch6.yaml')\n",
    "#NERmodel.batchTraining('../data/batches/debug_batch6.yaml')"
   ]
  },
  {
   "cell_type": "code",
   "execution_count": 8,
   "metadata": {},
   "outputs": [
    {
     "name": "stdout",
     "output_type": "stream",
     "text": [
      "bm2debug\n",
      "['mod001', 'mod002', 'mod003']\n",
      "model bm2debugmod001:\n",
      "accuracy 0.0 precision 0 recall 0 F1 0\n",
      "accuracy 0.0 total 78 cor 0 par 0 mis 78 \n",
      "job time: 12.360792398452759\n",
      "\n",
      "model bm2debugmod002:\n",
      "accuracy 0.35855263157894735 precision 0.92 recall 0.36 F1 0.52\n",
      "accuracy 0.376271186440678 total 295 cor 111 par 4 mis 180 \n",
      "job time: 1710.5622324943542\n",
      "\n",
      "model bm2debugmod003:\n",
      "accuracy 0.3782894736842105 precision 0.93 recall 0.38 F1 0.54\n",
      "accuracy 0.39661016949152544 total 295 cor 117 par 4 mis 174 \n",
      "job time: 1947.8102934360504\n",
      "\n",
      "total batch time 1948.80597782135\n"
     ]
    }
   ],
   "source": [
    "from NERmodel import NERmodel\n",
    "\n",
    "\n",
    "# debugging len\n",
    "NERmodel.parallelbatchTraining('../data/batches/debug_normalizedlengths2.yaml')"
   ]
  },
  {
   "cell_type": "code",
   "execution_count": 2,
   "metadata": {},
   "outputs": [
    {
     "name": "stdout",
     "output_type": "stream",
     "text": [
      "bm\n",
      "['mod001', 'mod002']\n",
      "model bmmod001:\n",
      "accuracy 0.5592105263157895 precision 0.87 recall 0.56 F1 0.68\n",
      "accuracy 0.5830508474576271 total 295 cor 172 par 15 mis 108 \n",
      "job time: 1868.2417724132538\n",
      "\n",
      "Exception in user code:\n",
      "------------------------------------------------------------\n",
      "Traceback (most recent call last):\n",
      "  File \"/media/disk/home/pau/Projectes/AHLT-mai/src/NERmodel.py\", line 581, in trainTestModel\n",
      "    model.parseTestSetOutput(solutionsFile,debug=False)\n",
      "  File \"/media/disk/home/pau/Projectes/AHLT-mai/src/NERmodel.py\", line 267, in parseTestSetOutput\n",
      "    tag = self.testdata.datadict[i][\"biotag\"]\n",
      "KeyError: 'biotag'\n",
      "------------------------------------------------------------\n",
      "model mod002 has failed... \n",
      "total batch time 5218.934740304947\n"
     ]
    }
   ],
   "source": [
    "from NERmodel import NERmodel\n",
    "\n",
    "\n",
    "# NER tests takes 5218 seconds 1h30\n",
    "NERmodel.parallelbatchTraining('../data/batches/debug_bestmodels_vs_NER.yaml')"
   ]
  },
  {
   "cell_type": "code",
   "execution_count": 1,
   "metadata": {},
   "outputs": [
    {
     "name": "stdout",
     "output_type": "stream",
     "text": [
      "bm\n",
      "['mod002']\n",
      "Before starting the processes\n"
     ]
    },
    {
     "name": "stderr",
     "output_type": "stream",
     "text": [
      "/home/pau/anaconda3/envs/ahltmai/lib/python3.6/site-packages/sklearn/cross_validation.py:41: DeprecationWarning: This module was deprecated in version 0.18 in favor of the model_selection module into which all the refactored classes and functions are moved. Also note that the interface of the new CV iterators are different from that of this module. This module will be removed in 0.20.\n",
      "  \"This module will be removed in 0.20.\", DeprecationWarning)\n"
     ]
    },
    {
     "name": "stdout",
     "output_type": "stream",
     "text": [
      "from inside TestModel\n",
      "{'biotag': 'B',\n",
      " 'drugtype': 'brand',\n",
      " 'hasDigits_after1': False,\n",
      " 'hasDigits_after2': '',\n",
      " 'hasDigits_after3': '',\n",
      " 'hasDigits_before1': False,\n",
      " 'hasDigits_before3': False,\n",
      " 'hasDigits_word': False,\n",
      " 'hasStrangeChars_after1': True,\n",
      " 'hasStrangeChars_before1': False,\n",
      " 'hasStrangeChars_before2': False,\n",
      " 'hasStrangeChars_word': False,\n",
      " 'isLowerCase_after2': '',\n",
      " 'isLowerCase_after3': '',\n",
      " 'isLowerCase_before1': True,\n",
      " 'isLowerCase_before2': True,\n",
      " 'isLowerCase_word': False,\n",
      " 'isTitleCase_after1': False,\n",
      " 'isTitleCase_after2': '',\n",
      " 'isTitleCase_after3': '',\n",
      " 'isTitleCase_before1': False,\n",
      " 'isTitleCase_before3': False,\n",
      " 'isTitleCase_word': True,\n",
      " 'isUpperCase_after1': False,\n",
      " 'isUpperCase_after2': '',\n",
      " 'isUpperCase_after3': '',\n",
      " 'isUpperCase_before1': False,\n",
      " 'isUpperCase_before2': False,\n",
      " 'isUpperCase_word': False,\n",
      " 'lemma_after1': '.',\n",
      " 'lenprefix_after1': 0.0,\n",
      " 'lenprefix_before1': 0.0,\n",
      " 'lensuffix_after1': 0.0,\n",
      " 'lensuffix_word': 0.0,\n",
      " 'lenword_after1': 0.0125,\n",
      " 'lenword_before1': 0.05,\n",
      " 'lenword_word': 0.0875,\n",
      " 'moreThan10chars_before1': False,\n",
      " 'moreThan10chars_before3': False,\n",
      " 'moreThan10chars_word': False,\n",
      " 'offsetend': 61,\n",
      " 'offsetstart': 54,\n",
      " 'pos_after1': 'Fp',\n",
      " 'pos_after2': '',\n",
      " 'pos_after3': '',\n",
      " 'pos_before1': 'IN',\n",
      " 'pos_before2': 'VBN',\n",
      " 'pos_before3': 'VBN',\n",
      " 'prefix_after1': '',\n",
      " 'prefix_before1': '',\n",
      " 'sentenceid': 'DDI-DrugBank.d749.s0',\n",
      " 'suffix_after1': '',\n",
      " 'suffix_before1': '',\n",
      " 'word': 'Macugen',\n",
      " 'wordStructure_before2': 'x',\n",
      " 'wordStructure_before3': 'x',\n",
      " 'wordStructure_word': 'Xx'}\n",
      "'B-brand'\n",
      "'B-drug'\n",
      "'B-brand'\n",
      "'B-drug'\n",
      "'B-brand'\n",
      "'B-brand'\n",
      "'B-group'\n",
      "'B-brand'\n",
      "'B-drug'\n",
      "'B-drug'\n",
      "'B-drug'\n",
      "'B-group'\n",
      "'B-drug'\n",
      "'B-drug'\n",
      "'B-drug'\n",
      "'B-drug'\n",
      "'B-drug'\n",
      "'B-group'\n",
      "'B-drug'\n",
      "'I-drug'\n",
      "'B-drug'\n",
      "'B-drug'\n",
      "'B-drug'\n",
      "'B-drug'\n",
      "'B-drug'\n",
      "'B-drug'\n",
      "'B-drug'\n",
      "'B-brand'\n",
      "'B-drug'\n",
      "'B-drug'\n",
      "'B-group'\n",
      "'B-group'\n",
      "'I-group'\n",
      "'B-group'\n",
      "'B-drug'\n",
      "'B-drug'\n",
      "'B-drug'\n",
      "'B-brand'\n",
      "'B-drug'\n",
      "'B-drug'\n",
      "'B-drug'\n",
      "'B-drug'\n",
      "'B-drug'\n",
      "'B-drug'\n",
      "'B-group'\n",
      "'I-group'\n",
      "'I-group'\n",
      "'B-drug'\n",
      "'B-brand'\n",
      "'B-group'\n",
      "'B-drug'\n",
      "'B-drug'\n",
      "'B-drug'\n",
      "'I-drug'\n",
      "'B-drug'\n",
      "'B-brand'\n",
      "'B-drug'\n",
      "'B-group'\n",
      "'B-group'\n",
      "'I-group'\n",
      "'B-group'\n",
      "'B-group'\n",
      "'B-brand'\n",
      "'B-brand'\n",
      "'B-drug'\n",
      "'B-drug'\n",
      "'B-brand'\n",
      "'B-brand'\n",
      "'B-drug'\n",
      "'B-group'\n",
      "'B-drug'\n",
      "'B-drug'\n",
      "'B-brand'\n",
      "'B-group'\n",
      "'I-group'\n",
      "'B-drug'\n",
      "'B-drug'\n",
      "'B-drug'\n",
      "'B-drug'\n",
      "'B-drug'\n",
      "'I-drug'\n",
      "'B-drug'\n",
      "'B-drug'\n",
      "'B-drug'\n",
      "'B-drug'\n",
      "'B-drug'\n",
      "'B-drug'\n",
      "'B-drug'\n",
      "'B-drug'\n",
      "'B-drug'\n",
      "'B-drug'\n",
      "'B-drug'\n",
      "'B-drug'\n",
      "'B-brand'\n",
      "'B-drug'\n",
      "'B-brand'\n",
      "'B-drug'\n",
      "'B-brand'\n",
      "'B-group'\n",
      "'B-group'\n",
      "'I-group'\n",
      "'B-group'\n",
      "'B-group'\n",
      "'B-group'\n",
      "'B-drug'\n",
      "'B-drug'\n",
      "'B-drug'\n",
      "'B-brand'\n",
      "'B-group'\n",
      "'I-group'\n",
      "'B-group'\n",
      "'I-group'\n",
      "'I-group'\n",
      "'B-brand'\n",
      "'B-drug'\n",
      "'B-drug'\n",
      "'B-drug_n'\n",
      "'I-drug_n'\n",
      "'B-drug_n'\n",
      "'I-drug_n'\n",
      "'I-drug_n'\n",
      "'B-drug'\n",
      "'B-group'\n",
      "'B-drug'\n",
      "'I-drug'\n",
      "'B-group'\n",
      "'I-group'\n",
      "'B-drug'\n",
      "'B-group'\n",
      "'B-group'\n",
      "'B-drug_n'\n",
      "'I-drug_n'\n",
      "'B-drug_n'\n",
      "'I-drug_n'\n",
      "'B-drug'\n",
      "'B-drug'\n",
      "'B-group'\n",
      "'I-group'\n",
      "'B-group'\n",
      "'I-group'\n",
      "'B-brand'\n",
      "'B-brand'\n",
      "'B-drug'\n",
      "'B-brand'\n",
      "'B-drug'\n",
      "'B-drug'\n",
      "'B-drug'\n",
      "'B-drug'\n",
      "'B-drug'\n",
      "'B-drug'\n",
      "'B-drug'\n",
      "'B-drug'\n",
      "'B-drug'\n",
      "'B-drug'\n",
      "'B-drug'\n",
      "'B-drug'\n",
      "'B-drug'\n",
      "'B-drug'\n",
      "'B-drug'\n",
      "'B-drug'\n",
      "'B-drug'\n",
      "'I-drug'\n",
      "'B-drug'\n",
      "'B-drug'\n",
      "'B-drug'\n",
      "'B-group'\n",
      "'B-drug'\n",
      "'I-drug'\n",
      "'B-group'\n",
      "'I-group'\n",
      "'B-brand'\n",
      "'B-group'\n",
      "'I-group'\n",
      "'B-group'\n",
      "'B-group'\n",
      "'B-group'\n",
      "'B-group'\n",
      "'B-group'\n",
      "'I-group'\n",
      "'B-drug'\n",
      "'B-drug_n'\n",
      "'I-drug_n'\n",
      "'B-drug'\n",
      "'B-drug'\n",
      "'B-drug_n'\n",
      "'B-drug'\n",
      "'B-drug'\n",
      "'B-group'\n",
      "'I-group'\n",
      "'I-group'\n",
      "'B-group'\n",
      "'B-brand'\n",
      "'B-brand'\n",
      "'B-drug'\n",
      "'B-drug'\n",
      "'B-drug'\n",
      "'B-drug'\n",
      "'B-drug'\n",
      "'B-drug'\n",
      "'B-drug'\n",
      "'B-brand'\n",
      "'B-drug'\n",
      "'B-drug'\n",
      "'B-drug'\n",
      "'B-drug'\n",
      "'B-drug'\n",
      "'B-group'\n",
      "'I-group'\n",
      "'I-group'\n",
      "'B-drug'\n",
      "'B-drug'\n",
      "'I-drug'\n",
      "'B-drug'\n",
      "'B-drug'\n",
      "'B-drug'\n",
      "'B-brand'\n",
      "'B-brand'\n",
      "'B-drug'\n",
      "'B-drug'\n",
      "'B-group'\n",
      "'B-drug'\n",
      "'B-drug'\n",
      "'B-drug'\n",
      "'B-group'\n",
      "'I-group'\n",
      "'I-group'\n",
      "'I-group'\n",
      "'I-group'\n",
      "'I-group'\n",
      "'I-group'\n",
      "'B-group'\n",
      "'B-group'\n",
      "'I-group'\n",
      "'B-brand'\n",
      "'B-brand'\n",
      "'B-brand'\n",
      "'B-brand'\n",
      "'B-brand'\n",
      "'B-brand'\n",
      "'B-brand'\n",
      "'B-brand'\n",
      "'B-drug'\n",
      "'I-drug'\n",
      "'B-brand'\n",
      "'B-group'\n",
      "'B-drug'\n",
      "'B-drug'\n",
      "'B-drug'\n",
      "'B-drug'\n",
      "'B-drug'\n",
      "'B-group'\n",
      "'B-drug'\n",
      "'I-drug'\n",
      "'B-group'\n",
      "'B-group'\n",
      "'B-drug'\n",
      "'B-group'\n",
      "'B-drug'\n",
      "'B-drug'\n",
      "'B-group'\n",
      "'B-drug'\n",
      "'B-brand'\n",
      "'B-drug'\n",
      "'B-brand'\n",
      "'B-group'\n",
      "'B-group'\n",
      "'B-drug'\n",
      "'B-drug'\n",
      "'B-drug'\n",
      "'B-group'\n",
      "'B-drug'\n",
      "'B-group'\n",
      "'I-group'\n",
      "'B-drug'\n",
      "'B-brand'\n",
      "'B-drug'\n",
      "'B-drug'\n",
      "'B-drug'\n",
      "'B-drug'\n",
      "'B-drug'\n",
      "'B-group'\n",
      "'B-drug'\n",
      "'B-drug'\n",
      "'B-drug'\n",
      "'B-group'\n",
      "'B-drug'\n",
      "'B-drug'\n",
      "'B-drug'\n",
      "'B-drug'\n",
      "'B-drug'\n",
      "'B-drug'\n",
      "'B-drug'\n",
      "'B-drug'\n",
      "'B-drug'\n",
      "'B-drug'\n",
      "'B-group'\n",
      "'B-drug'\n",
      "'B-drug'\n",
      "'B-drug'\n",
      "'B-drug'\n",
      "'B-drug'\n",
      "'B-brand'\n",
      "'B-drug'\n",
      "'B-brand'\n",
      "'B-drug'\n",
      "'B-drug'\n",
      "'B-drug'\n",
      "'B-group'\n",
      "'I-group'\n",
      "'B-brand'\n",
      "'B-brand'\n",
      "'B-drug'\n",
      "'I-drug'\n",
      "'B-group'\n",
      "'B-drug'\n",
      "'I-drug'\n",
      "'B-drug'\n",
      "'B-drug'\n",
      "'B-drug'\n",
      "'B-drug'\n",
      "'B-drug'\n",
      "'B-brand'\n",
      "'B-group'\n",
      "'B-group'\n",
      "'B-group'\n",
      "'B-group'\n",
      "'B-group'\n",
      "'B-group'\n",
      "'I-group'\n",
      "'B-drug'\n",
      "'B-group'\n",
      "'I-group'\n",
      "'B-drug'\n",
      "'B-drug'\n",
      "'B-drug'\n",
      "'B-drug'\n",
      "'B-drug'\n",
      "'I-drug'\n",
      "'B-drug'\n",
      "'B-drug'\n",
      "'B-brand'\n",
      "'B-brand'\n",
      "'B-group'\n",
      "model bmmod002:\n",
      "accuracy 0.0 precision 0 recall 0 F1 0\n",
      "accuracy 0.0 total 295 cor 0 par 0 mis 295 \n",
      "job time: 28.103187561035156\n",
      "\n",
      "total batch time 28.392845392227173\n"
     ]
    }
   ],
   "source": [
    "from NERmodel import NERmodel\n",
    "\n",
    "\n",
    "# NER model debugging\n",
    "NERmodel.parallelbatchTesting(\n",
    "    '../data/batches/debug_NER.yaml',\n",
    "    modelfile='../data/models/svm-pipeline_20180519171952.pkl')"
   ]
  },
  {
   "cell_type": "code",
   "execution_count": 2,
   "metadata": {},
   "outputs": [
    {
     "name": "stdout",
     "output_type": "stream",
     "text": [
      "bm\n",
      "['mod002']\n",
      "Before starting the processes\n",
      "from inside TestModel\n"
     ]
    },
    {
     "ename": "KeyboardInterrupt",
     "evalue": "",
     "output_type": "error",
     "traceback": [
      "\u001b[0;31m---------------------------------------------------------------------------\u001b[0m",
      "\u001b[0;31mKeyboardInterrupt\u001b[0m                         Traceback (most recent call last)",
      "\u001b[0;32m<ipython-input-2-689c17c8ad99>\u001b[0m in \u001b[0;36m<module>\u001b[0;34m()\u001b[0m\n\u001b[1;32m      5\u001b[0m NERmodel.parallelbatchTesting(\n\u001b[1;32m      6\u001b[0m     \u001b[0;34m'../data/batches/debug_NER.yaml'\u001b[0m\u001b[0;34m,\u001b[0m\u001b[0;34m\u001b[0m\u001b[0m\n\u001b[0;32m----> 7\u001b[0;31m     modelfile='../data/models/svm-pipeline_20180519171952.pkl')\n\u001b[0m",
      "\u001b[0;32m/media/disk/home/pau/Projectes/AHLT-mai/src/NERmodel.py\u001b[0m in \u001b[0;36mparallelbatchTesting\u001b[0;34m(configfile, status, modelfile)\u001b[0m\n\u001b[1;32m    874\u001b[0m         \u001b[0mprint\u001b[0m\u001b[0;34m(\u001b[0m\u001b[0;34m\"Before starting the processes\"\u001b[0m\u001b[0;34m)\u001b[0m\u001b[0;34m\u001b[0m\u001b[0m\n\u001b[1;32m    875\u001b[0m         \u001b[0;32mfor\u001b[0m \u001b[0mp\u001b[0m \u001b[0;32min\u001b[0m \u001b[0mprocs\u001b[0m\u001b[0;34m:\u001b[0m \u001b[0mp\u001b[0m\u001b[0;34m.\u001b[0m\u001b[0mstart\u001b[0m\u001b[0;34m(\u001b[0m\u001b[0;34m)\u001b[0m\u001b[0;34m\u001b[0m\u001b[0m\n\u001b[0;32m--> 876\u001b[0;31m         \u001b[0;32mfor\u001b[0m \u001b[0mp\u001b[0m \u001b[0;32min\u001b[0m \u001b[0mprocs\u001b[0m\u001b[0;34m:\u001b[0m \u001b[0mp\u001b[0m\u001b[0;34m.\u001b[0m\u001b[0mjoin\u001b[0m\u001b[0;34m(\u001b[0m\u001b[0;34m)\u001b[0m\u001b[0;34m\u001b[0m\u001b[0m\n\u001b[0m\u001b[1;32m    877\u001b[0m \u001b[0;34m\u001b[0m\u001b[0m\n\u001b[1;32m    878\u001b[0m         \u001b[0;31m# sequential version\u001b[0m\u001b[0;34m\u001b[0m\u001b[0;34m\u001b[0m\u001b[0m\n",
      "\u001b[0;32m~/anaconda3/envs/ahltmai/lib/python3.6/multiprocessing/process.py\u001b[0m in \u001b[0;36mjoin\u001b[0;34m(self, timeout)\u001b[0m\n\u001b[1;32m    122\u001b[0m         \u001b[0;32massert\u001b[0m \u001b[0mself\u001b[0m\u001b[0;34m.\u001b[0m\u001b[0m_parent_pid\u001b[0m \u001b[0;34m==\u001b[0m \u001b[0mos\u001b[0m\u001b[0;34m.\u001b[0m\u001b[0mgetpid\u001b[0m\u001b[0;34m(\u001b[0m\u001b[0;34m)\u001b[0m\u001b[0;34m,\u001b[0m \u001b[0;34m'can only join a child process'\u001b[0m\u001b[0;34m\u001b[0m\u001b[0m\n\u001b[1;32m    123\u001b[0m         \u001b[0;32massert\u001b[0m \u001b[0mself\u001b[0m\u001b[0;34m.\u001b[0m\u001b[0m_popen\u001b[0m \u001b[0;32mis\u001b[0m \u001b[0;32mnot\u001b[0m \u001b[0;32mNone\u001b[0m\u001b[0;34m,\u001b[0m \u001b[0;34m'can only join a started process'\u001b[0m\u001b[0;34m\u001b[0m\u001b[0m\n\u001b[0;32m--> 124\u001b[0;31m         \u001b[0mres\u001b[0m \u001b[0;34m=\u001b[0m \u001b[0mself\u001b[0m\u001b[0;34m.\u001b[0m\u001b[0m_popen\u001b[0m\u001b[0;34m.\u001b[0m\u001b[0mwait\u001b[0m\u001b[0;34m(\u001b[0m\u001b[0mtimeout\u001b[0m\u001b[0;34m)\u001b[0m\u001b[0;34m\u001b[0m\u001b[0m\n\u001b[0m\u001b[1;32m    125\u001b[0m         \u001b[0;32mif\u001b[0m \u001b[0mres\u001b[0m \u001b[0;32mis\u001b[0m \u001b[0;32mnot\u001b[0m \u001b[0;32mNone\u001b[0m\u001b[0;34m:\u001b[0m\u001b[0;34m\u001b[0m\u001b[0m\n\u001b[1;32m    126\u001b[0m             \u001b[0m_children\u001b[0m\u001b[0;34m.\u001b[0m\u001b[0mdiscard\u001b[0m\u001b[0;34m(\u001b[0m\u001b[0mself\u001b[0m\u001b[0;34m)\u001b[0m\u001b[0;34m\u001b[0m\u001b[0m\n",
      "\u001b[0;32m~/anaconda3/envs/ahltmai/lib/python3.6/multiprocessing/popen_fork.py\u001b[0m in \u001b[0;36mwait\u001b[0;34m(self, timeout)\u001b[0m\n\u001b[1;32m     55\u001b[0m                     \u001b[0;32mreturn\u001b[0m \u001b[0;32mNone\u001b[0m\u001b[0;34m\u001b[0m\u001b[0m\n\u001b[1;32m     56\u001b[0m             \u001b[0;31m# This shouldn't block if wait() returned successfully.\u001b[0m\u001b[0;34m\u001b[0m\u001b[0;34m\u001b[0m\u001b[0m\n\u001b[0;32m---> 57\u001b[0;31m             \u001b[0;32mreturn\u001b[0m \u001b[0mself\u001b[0m\u001b[0;34m.\u001b[0m\u001b[0mpoll\u001b[0m\u001b[0;34m(\u001b[0m\u001b[0mos\u001b[0m\u001b[0;34m.\u001b[0m\u001b[0mWNOHANG\u001b[0m \u001b[0;32mif\u001b[0m \u001b[0mtimeout\u001b[0m \u001b[0;34m==\u001b[0m \u001b[0;36m0.0\u001b[0m \u001b[0;32melse\u001b[0m \u001b[0;36m0\u001b[0m\u001b[0;34m)\u001b[0m\u001b[0;34m\u001b[0m\u001b[0m\n\u001b[0m\u001b[1;32m     58\u001b[0m         \u001b[0;32mreturn\u001b[0m \u001b[0mself\u001b[0m\u001b[0;34m.\u001b[0m\u001b[0mreturncode\u001b[0m\u001b[0;34m\u001b[0m\u001b[0m\n\u001b[1;32m     59\u001b[0m \u001b[0;34m\u001b[0m\u001b[0m\n",
      "\u001b[0;32m~/anaconda3/envs/ahltmai/lib/python3.6/multiprocessing/popen_fork.py\u001b[0m in \u001b[0;36mpoll\u001b[0;34m(self, flag)\u001b[0m\n\u001b[1;32m     33\u001b[0m             \u001b[0;32mwhile\u001b[0m \u001b[0;32mTrue\u001b[0m\u001b[0;34m:\u001b[0m\u001b[0;34m\u001b[0m\u001b[0m\n\u001b[1;32m     34\u001b[0m                 \u001b[0;32mtry\u001b[0m\u001b[0;34m:\u001b[0m\u001b[0;34m\u001b[0m\u001b[0m\n\u001b[0;32m---> 35\u001b[0;31m                     \u001b[0mpid\u001b[0m\u001b[0;34m,\u001b[0m \u001b[0msts\u001b[0m \u001b[0;34m=\u001b[0m \u001b[0mos\u001b[0m\u001b[0;34m.\u001b[0m\u001b[0mwaitpid\u001b[0m\u001b[0;34m(\u001b[0m\u001b[0mself\u001b[0m\u001b[0;34m.\u001b[0m\u001b[0mpid\u001b[0m\u001b[0;34m,\u001b[0m \u001b[0mflag\u001b[0m\u001b[0;34m)\u001b[0m\u001b[0;34m\u001b[0m\u001b[0m\n\u001b[0m\u001b[1;32m     36\u001b[0m                 \u001b[0;32mexcept\u001b[0m \u001b[0mOSError\u001b[0m \u001b[0;32mas\u001b[0m \u001b[0me\u001b[0m\u001b[0;34m:\u001b[0m\u001b[0;34m\u001b[0m\u001b[0m\n\u001b[1;32m     37\u001b[0m                     \u001b[0;31m# Child process not yet created. See #1731717\u001b[0m\u001b[0;34m\u001b[0m\u001b[0;34m\u001b[0m\u001b[0m\n",
      "\u001b[0;31mKeyboardInterrupt\u001b[0m: "
     ]
    }
   ],
   "source": [
    "from NERmodel import NERmodel\n",
    "\n",
    "\n",
    "# NER model debugging part 2\n",
    "NERmodel.parallelbatchTesting(\n",
    "    '../data/batches/debug_NER.yaml',\n",
    "    modelfile='../data/models/svm-pipeline_20180519171952.pkl')"
   ]
  },
  {
   "cell_type": "code",
   "execution_count": 1,
   "metadata": {},
   "outputs": [
    {
     "name": "stdout",
     "output_type": "stream",
     "text": [
      "bm\n",
      "['mod002']\n"
     ]
    },
    {
     "name": "stderr",
     "output_type": "stream",
     "text": [
      "/home/pau/anaconda3/envs/ahltmai/lib/python3.6/site-packages/sklearn/cross_validation.py:41: DeprecationWarning: This module was deprecated in version 0.18 in favor of the model_selection module into which all the refactored classes and functions are moved. Also note that the interface of the new CV iterators are different from that of this module. This module will be removed in 0.20.\n",
      "  \"This module will be removed in 0.20.\", DeprecationWarning)\n"
     ]
    },
    {
     "name": "stdout",
     "output_type": "stream",
     "text": [
      "{'hasDigits_after1': False,\n",
      " 'hasDigits_after2': False,\n",
      " 'hasDigits_after3': False,\n",
      " 'hasDigits_before1': '',\n",
      " 'hasDigits_before3': '',\n",
      " 'hasDigits_word': False,\n",
      " 'hasStrangeChars_after1': True,\n",
      " 'hasStrangeChars_before1': '',\n",
      " 'hasStrangeChars_before2': '',\n",
      " 'hasStrangeChars_word': True,\n",
      " 'isLowerCase_after2': True,\n",
      " 'isLowerCase_after3': True,\n",
      " 'isLowerCase_before1': '',\n",
      " 'isLowerCase_before2': '',\n",
      " 'isLowerCase_word': False,\n",
      " 'isTitleCase_after1': True,\n",
      " 'isTitleCase_after2': False,\n",
      " 'isTitleCase_after3': False,\n",
      " 'isTitleCase_before1': '',\n",
      " 'isTitleCase_before3': '',\n",
      " 'isTitleCase_word': False,\n",
      " 'isUpperCase_after1': False,\n",
      " 'isUpperCase_after2': False,\n",
      " 'isUpperCase_after3': False,\n",
      " 'isUpperCase_before1': '',\n",
      " 'isUpperCase_before2': '',\n",
      " 'isUpperCase_word': False,\n",
      " 'lemma_after1': 'dose-time',\n",
      " 'lenprefix_after1': 0.0,\n",
      " 'lenprefix_before1': '',\n",
      " 'lensuffix_after1': 0.0,\n",
      " 'lensuffix_word': 0.0,\n",
      " 'lenword_after1': 0.08108108108108109,\n",
      " 'lenword_before1': '',\n",
      " 'lenword_word': 0.009009009009009009,\n",
      " 'moreThan10chars_before1': '',\n",
      " 'moreThan10chars_before3': '',\n",
      " 'moreThan10chars_word': False,\n",
      " 'pos_after1': 'NP',\n",
      " 'pos_after2': 'NNS',\n",
      " 'pos_after3': 'IN',\n",
      " 'pos_before1': '',\n",
      " 'pos_before2': '',\n",
      " 'pos_before3': '',\n",
      " 'prefix_after1': '',\n",
      " 'prefix_before1': '',\n",
      " 'suffix_after1': '',\n",
      " 'suffix_before1': '',\n",
      " 'word': '[',\n",
      " 'wordStructure_before2': '',\n",
      " 'wordStructure_before3': '',\n",
      " 'wordStructure_word': '_'}\n",
      "{'hasDigits_after1': False,\n",
      " 'hasDigits_after2': False,\n",
      " 'hasDigits_after3': False,\n",
      " 'hasDigits_before1': False,\n",
      " 'hasDigits_before3': '',\n",
      " 'hasDigits_word': False,\n",
      " 'hasStrangeChars_after1': False,\n",
      " 'hasStrangeChars_before1': True,\n",
      " 'hasStrangeChars_before2': '',\n",
      " 'hasStrangeChars_word': True,\n",
      " 'isLowerCase_after2': True,\n",
      " 'isLowerCase_after3': True,\n",
      " 'isLowerCase_before1': False,\n",
      " 'isLowerCase_before2': '',\n",
      " 'isLowerCase_word': False,\n",
      " 'isTitleCase_after1': False,\n",
      " 'isTitleCase_after2': False,\n",
      " 'isTitleCase_after3': False,\n",
      " 'isTitleCase_before1': False,\n",
      " 'isTitleCase_before3': '',\n",
      " 'isTitleCase_word': True,\n",
      " 'isUpperCase_after1': False,\n",
      " 'isUpperCase_after2': False,\n",
      " 'isUpperCase_after3': False,\n",
      " 'isUpperCase_before1': False,\n",
      " 'isUpperCase_before2': '',\n",
      " 'isUpperCase_word': False,\n",
      " 'lemma_after1': 'effect',\n",
      " 'lenprefix_after1': 0.0,\n",
      " 'lenprefix_before1': 0.0,\n",
      " 'lensuffix_after1': 0.009009009009009009,\n",
      " 'lensuffix_word': 0.0,\n",
      " 'lenword_after1': 0.06306306306306306,\n",
      " 'lenword_before1': 0.009009009009009009,\n",
      " 'lenword_word': 0.08108108108108109,\n",
      " 'moreThan10chars_before1': False,\n",
      " 'moreThan10chars_before3': '',\n",
      " 'moreThan10chars_word': False,\n",
      " 'pos_after1': 'NNS',\n",
      " 'pos_after2': 'IN',\n",
      " 'pos_after3': 'JJ',\n",
      " 'pos_before1': 'Fca',\n",
      " 'pos_before2': '',\n",
      " 'pos_before3': '',\n",
      " 'prefix_after1': '',\n",
      " 'prefix_before1': '',\n",
      " 'suffix_after1': 's',\n",
      " 'suffix_before1': '',\n",
      " 'word': 'Dose-time',\n",
      " 'wordStructure_before2': '',\n",
      " 'wordStructure_before3': '',\n",
      " 'wordStructure_word': 'Xx_x'}\n",
      "{'hasDigits_after1': False,\n",
      " 'hasDigits_after2': False,\n",
      " 'hasDigits_after3': False,\n",
      " 'hasDigits_before1': False,\n",
      " 'hasDigits_before3': '',\n",
      " 'hasDigits_word': False,\n",
      " 'hasStrangeChars_after1': False,\n",
      " 'hasStrangeChars_before1': True,\n",
      " 'hasStrangeChars_before2': True,\n",
      " 'hasStrangeChars_word': False,\n",
      " 'isLowerCase_after2': True,\n",
      " 'isLowerCase_after3': True,\n",
      " 'isLowerCase_before1': False,\n",
      " 'isLowerCase_before2': False,\n",
      " 'isLowerCase_word': True,\n",
      " 'isTitleCase_after1': False,\n",
      " 'isTitleCase_after2': False,\n",
      " 'isTitleCase_after3': False,\n",
      " 'isTitleCase_before1': True,\n",
      " 'isTitleCase_before3': '',\n",
      " 'isTitleCase_word': False,\n",
      " 'isUpperCase_after1': False,\n",
      " 'isUpperCase_after2': False,\n",
      " 'isUpperCase_after3': False,\n",
      " 'isUpperCase_before1': False,\n",
      " 'isUpperCase_before2': False,\n",
      " 'isUpperCase_word': False,\n",
      " 'lemma_after1': 'of',\n",
      " 'lenprefix_after1': 0.0,\n",
      " 'lenprefix_before1': 0.0,\n",
      " 'lensuffix_after1': 0.0,\n",
      " 'lensuffix_word': 0.009009009009009009,\n",
      " 'lenword_after1': 0.018018018018018018,\n",
      " 'lenword_before1': 0.08108108108108109,\n",
      " 'lenword_word': 0.06306306306306306,\n",
      " 'moreThan10chars_before1': False,\n",
      " 'moreThan10chars_before3': '',\n",
      " 'moreThan10chars_word': False,\n",
      " 'pos_after1': 'IN',\n",
      " 'pos_after2': 'JJ',\n",
      " 'pos_after3': 'NN',\n",
      " 'pos_before1': 'NP',\n",
      " 'pos_before2': 'Fca',\n",
      " 'pos_before3': '',\n",
      " 'prefix_after1': '',\n",
      " 'prefix_before1': '',\n",
      " 'suffix_after1': '',\n",
      " 'suffix_before1': '',\n",
      " 'word': 'effects',\n",
      " 'wordStructure_before2': '_',\n",
      " 'wordStructure_before3': '',\n",
      " 'wordStructure_word': 'x'}\n"
     ]
    },
    {
     "ename": "KeyboardInterrupt",
     "evalue": "",
     "output_type": "error",
     "traceback": [
      "\u001b[0;31m---------------------------------------------------------------------------\u001b[0m",
      "\u001b[0;31mKeyboardInterrupt\u001b[0m                         Traceback (most recent call last)",
      "\u001b[0;32m<ipython-input-1-a587416e8126>\u001b[0m in \u001b[0;36m<module>\u001b[0;34m()\u001b[0m\n\u001b[1;32m      4\u001b[0m \u001b[0;31m# NER model debugging part 3\u001b[0m\u001b[0;34m\u001b[0m\u001b[0;34m\u001b[0m\u001b[0m\n\u001b[1;32m      5\u001b[0m NERmodel.parallelbatchTraining(\n\u001b[0;32m----> 6\u001b[0;31m     '../data/batches/debug_NER.yaml')\n\u001b[0m",
      "\u001b[0;32m/media/disk/home/pau/Projectes/AHLT-mai/src/NERmodel.py\u001b[0m in \u001b[0;36mparallelbatchTraining\u001b[0;34m(configfile, status)\u001b[0m\n\u001b[1;32m    815\u001b[0m \u001b[0;34m\u001b[0m\u001b[0m\n\u001b[1;32m    816\u001b[0m         \u001b[0;32mfor\u001b[0m \u001b[0mp\u001b[0m \u001b[0;32min\u001b[0m \u001b[0mprocs\u001b[0m\u001b[0;34m:\u001b[0m \u001b[0mp\u001b[0m\u001b[0;34m.\u001b[0m\u001b[0mstart\u001b[0m\u001b[0;34m(\u001b[0m\u001b[0;34m)\u001b[0m\u001b[0;34m\u001b[0m\u001b[0m\n\u001b[0;32m--> 817\u001b[0;31m         \u001b[0;32mfor\u001b[0m \u001b[0mp\u001b[0m \u001b[0;32min\u001b[0m \u001b[0mprocs\u001b[0m\u001b[0;34m:\u001b[0m \u001b[0mp\u001b[0m\u001b[0;34m.\u001b[0m\u001b[0mjoin\u001b[0m\u001b[0;34m(\u001b[0m\u001b[0;34m)\u001b[0m\u001b[0;34m\u001b[0m\u001b[0m\n\u001b[0m\u001b[1;32m    818\u001b[0m \u001b[0;34m\u001b[0m\u001b[0m\n\u001b[1;32m    819\u001b[0m         \u001b[0;31m# sequential version\u001b[0m\u001b[0;34m\u001b[0m\u001b[0;34m\u001b[0m\u001b[0m\n",
      "\u001b[0;32m~/anaconda3/envs/ahltmai/lib/python3.6/multiprocessing/process.py\u001b[0m in \u001b[0;36mjoin\u001b[0;34m(self, timeout)\u001b[0m\n\u001b[1;32m    122\u001b[0m         \u001b[0;32massert\u001b[0m \u001b[0mself\u001b[0m\u001b[0;34m.\u001b[0m\u001b[0m_parent_pid\u001b[0m \u001b[0;34m==\u001b[0m \u001b[0mos\u001b[0m\u001b[0;34m.\u001b[0m\u001b[0mgetpid\u001b[0m\u001b[0;34m(\u001b[0m\u001b[0;34m)\u001b[0m\u001b[0;34m,\u001b[0m \u001b[0;34m'can only join a child process'\u001b[0m\u001b[0;34m\u001b[0m\u001b[0m\n\u001b[1;32m    123\u001b[0m         \u001b[0;32massert\u001b[0m \u001b[0mself\u001b[0m\u001b[0;34m.\u001b[0m\u001b[0m_popen\u001b[0m \u001b[0;32mis\u001b[0m \u001b[0;32mnot\u001b[0m \u001b[0;32mNone\u001b[0m\u001b[0;34m,\u001b[0m \u001b[0;34m'can only join a started process'\u001b[0m\u001b[0;34m\u001b[0m\u001b[0m\n\u001b[0;32m--> 124\u001b[0;31m         \u001b[0mres\u001b[0m \u001b[0;34m=\u001b[0m \u001b[0mself\u001b[0m\u001b[0;34m.\u001b[0m\u001b[0m_popen\u001b[0m\u001b[0;34m.\u001b[0m\u001b[0mwait\u001b[0m\u001b[0;34m(\u001b[0m\u001b[0mtimeout\u001b[0m\u001b[0;34m)\u001b[0m\u001b[0;34m\u001b[0m\u001b[0m\n\u001b[0m\u001b[1;32m    125\u001b[0m         \u001b[0;32mif\u001b[0m \u001b[0mres\u001b[0m \u001b[0;32mis\u001b[0m \u001b[0;32mnot\u001b[0m \u001b[0;32mNone\u001b[0m\u001b[0;34m:\u001b[0m\u001b[0;34m\u001b[0m\u001b[0m\n\u001b[1;32m    126\u001b[0m             \u001b[0m_children\u001b[0m\u001b[0;34m.\u001b[0m\u001b[0mdiscard\u001b[0m\u001b[0;34m(\u001b[0m\u001b[0mself\u001b[0m\u001b[0;34m)\u001b[0m\u001b[0;34m\u001b[0m\u001b[0m\n",
      "\u001b[0;32m~/anaconda3/envs/ahltmai/lib/python3.6/multiprocessing/popen_fork.py\u001b[0m in \u001b[0;36mwait\u001b[0;34m(self, timeout)\u001b[0m\n\u001b[1;32m     55\u001b[0m                     \u001b[0;32mreturn\u001b[0m \u001b[0;32mNone\u001b[0m\u001b[0;34m\u001b[0m\u001b[0m\n\u001b[1;32m     56\u001b[0m             \u001b[0;31m# This shouldn't block if wait() returned successfully.\u001b[0m\u001b[0;34m\u001b[0m\u001b[0;34m\u001b[0m\u001b[0m\n\u001b[0;32m---> 57\u001b[0;31m             \u001b[0;32mreturn\u001b[0m \u001b[0mself\u001b[0m\u001b[0;34m.\u001b[0m\u001b[0mpoll\u001b[0m\u001b[0;34m(\u001b[0m\u001b[0mos\u001b[0m\u001b[0;34m.\u001b[0m\u001b[0mWNOHANG\u001b[0m \u001b[0;32mif\u001b[0m \u001b[0mtimeout\u001b[0m \u001b[0;34m==\u001b[0m \u001b[0;36m0.0\u001b[0m \u001b[0;32melse\u001b[0m \u001b[0;36m0\u001b[0m\u001b[0;34m)\u001b[0m\u001b[0;34m\u001b[0m\u001b[0m\n\u001b[0m\u001b[1;32m     58\u001b[0m         \u001b[0;32mreturn\u001b[0m \u001b[0mself\u001b[0m\u001b[0;34m.\u001b[0m\u001b[0mreturncode\u001b[0m\u001b[0;34m\u001b[0m\u001b[0m\n\u001b[1;32m     59\u001b[0m \u001b[0;34m\u001b[0m\u001b[0m\n",
      "\u001b[0;32m~/anaconda3/envs/ahltmai/lib/python3.6/multiprocessing/popen_fork.py\u001b[0m in \u001b[0;36mpoll\u001b[0;34m(self, flag)\u001b[0m\n\u001b[1;32m     33\u001b[0m             \u001b[0;32mwhile\u001b[0m \u001b[0;32mTrue\u001b[0m\u001b[0;34m:\u001b[0m\u001b[0;34m\u001b[0m\u001b[0m\n\u001b[1;32m     34\u001b[0m                 \u001b[0;32mtry\u001b[0m\u001b[0;34m:\u001b[0m\u001b[0;34m\u001b[0m\u001b[0m\n\u001b[0;32m---> 35\u001b[0;31m                     \u001b[0mpid\u001b[0m\u001b[0;34m,\u001b[0m \u001b[0msts\u001b[0m \u001b[0;34m=\u001b[0m \u001b[0mos\u001b[0m\u001b[0;34m.\u001b[0m\u001b[0mwaitpid\u001b[0m\u001b[0;34m(\u001b[0m\u001b[0mself\u001b[0m\u001b[0;34m.\u001b[0m\u001b[0mpid\u001b[0m\u001b[0;34m,\u001b[0m \u001b[0mflag\u001b[0m\u001b[0;34m)\u001b[0m\u001b[0;34m\u001b[0m\u001b[0m\n\u001b[0m\u001b[1;32m     36\u001b[0m                 \u001b[0;32mexcept\u001b[0m \u001b[0mOSError\u001b[0m \u001b[0;32mas\u001b[0m \u001b[0me\u001b[0m\u001b[0;34m:\u001b[0m\u001b[0;34m\u001b[0m\u001b[0m\n\u001b[1;32m     37\u001b[0m                     \u001b[0;31m# Child process not yet created. See #1731717\u001b[0m\u001b[0;34m\u001b[0m\u001b[0;34m\u001b[0m\u001b[0m\n",
      "\u001b[0;31mKeyboardInterrupt\u001b[0m: "
     ]
    }
   ],
   "source": [
    "from NERmodel import NERmodel\n",
    "\n",
    "\n",
    "# NER model debugging part 3\n",
    "NERmodel.parallelbatchTraining(\n",
    "    '../data/batches/debug_NER.yaml')"
   ]
  },
  {
   "cell_type": "code",
   "execution_count": null,
   "metadata": {},
   "outputs": [
    {
     "name": "stderr",
     "output_type": "stream",
     "text": [
      "/home/pau/anaconda3/envs/ahltmai/lib/python3.6/site-packages/sklearn/cross_validation.py:41: DeprecationWarning: This module was deprecated in version 0.18 in favor of the model_selection module into which all the refactored classes and functions are moved. Also note that the interface of the new CV iterators are different from that of this module. This module will be removed in 0.20.\n",
      "  \"This module will be removed in 0.20.\", DeprecationWarning)\n"
     ]
    },
    {
     "name": "stdout",
     "output_type": "stream",
     "text": [
      "combER0517\n",
      "['mod000', 'mod001', 'mod002', 'mod003', 'mod004', 'mod005', 'mod006', 'mod007', 'mod008', 'mod009', 'mod010', 'mod011', 'mod012', 'mod013', 'mod014', 'mod015', 'mod016', 'mod017', 'mod019', 'mod020', 'mod021', 'mod022', 'mod023', 'mod024', 'mod025', 'mod026', 'mod027', 'mod028', 'mod029', 'mod030', 'mod031', 'mod032', 'mod033', 'mod034', 'mod035', 'mod036', 'mod037', 'mod038', 'mod039', 'mod040', 'mod041', 'mod042', 'mod043', 'mod044', 'mod045', 'mod046', 'mod047', 'mod048', 'mod049', 'mod050', 'mod051', 'mod052', 'mod053', 'mod054', 'mod055', 'mod056', 'mod057', 'mod058', 'mod059', 'mod060', 'mod061', 'mod062']\n"
     ]
    }
   ],
   "source": [
    "from NERmodel import NERmodel\n",
    "\n",
    "\n",
    "\n",
    "NERmodel.parallelbatchTraining('../data/batches/combinationsER20180517.yaml', status=False)\n",
    "\n",
    "NERmodel.parallelbatchTraining('../data/batches/combinationsNER20180517.yaml', status=False)"
   ]
  }
 ],
 "metadata": {
  "kernelspec": {
   "display_name": "ahltmai",
   "language": "python",
   "name": "ahltmai"
  },
  "language_info": {
   "codemirror_mode": {
    "name": "ipython",
    "version": 3
   },
   "file_extension": ".py",
   "mimetype": "text/x-python",
   "name": "python",
   "nbconvert_exporter": "python",
   "pygments_lexer": "ipython3",
   "version": "3.6.4"
  }
 },
 "nbformat": 4,
 "nbformat_minor": 2
}
